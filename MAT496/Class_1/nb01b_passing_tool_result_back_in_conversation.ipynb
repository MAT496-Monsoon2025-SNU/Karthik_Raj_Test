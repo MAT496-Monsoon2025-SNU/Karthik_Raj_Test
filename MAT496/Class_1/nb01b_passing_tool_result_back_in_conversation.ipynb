{
 "cells": [
  {
   "cell_type": "code",
   "execution_count": 1,
   "id": "8cf11c47",
   "metadata": {},
   "outputs": [
    {
     "data": {
      "text/plain": [
       "True"
      ]
     },
     "execution_count": 1,
     "metadata": {},
     "output_type": "execute_result"
    }
   ],
   "source": [
    "from dotenv import load_dotenv\n",
    "load_dotenv(override=True)"
   ]
  },
  {
   "cell_type": "markdown",
   "id": "4c616bc7",
   "metadata": {},
   "source": [
    "# Learning to have conversation with LLM"
   ]
  },
  {
   "cell_type": "code",
   "execution_count": 2,
   "id": "f89a6d9b",
   "metadata": {},
   "outputs": [],
   "source": [
    "# pick a model\n",
    "from langchain.chat_models import init_chat_model\n",
    "llm = init_chat_model(\"llama-3.3-70b-versatile\", model_provider=\"groq\")"
   ]
  },
  {
   "cell_type": "markdown",
   "id": "37126d86",
   "metadata": {},
   "source": [
    "### Create your tools"
   ]
  },
  {
   "cell_type": "code",
   "execution_count": null,
   "id": "63524d6c",
   "metadata": {},
   "outputs": [],
   "source": [
    "from langchain_core.tools import tool\n",
    "\n",
    "@tool\n",
    "def laugh() -> str:\n",
    "    \"\"\" Call this tool if the mood is funny\"\"\"\n",
    "    return \"HAHAHAHAHAH\"\n",
    "\n",
    "\n",
    "@tool\n",
    "def sad() -> str:\n",
    "    \"\"\" Call this tool if you want to show sad, depressed, or negative feelings\"\"\"\n",
    "    return \"I am sad\"\n",
    "\n",
    "\n",
    "@tool\n",
    "def happy() -> str:\n",
    "    \"\"\" Call this tool if you want to show happiness or positive feeling\"\"\"\n",
    "    return \"I am happy\"\n",
    "\n",
    "@tool\n",
    "def cheer_up() -> str:\n",
    "    \"\"\"Call this tool is the user is extremely sad\"\"\"\n",
    "    return \"Cheer up! Everything will be fine\"  \n"
   ]
  },
  {
   "cell_type": "code",
   "execution_count": 113,
   "id": "97bf49be",
   "metadata": {},
   "outputs": [],
   "source": [
    "tools_list = [laugh, sad, happy, cheer_up]\n",
    "tools_dict = {t.name: t for t in tools_list} # comes in handy at the time of invokation"
   ]
  },
  {
   "cell_type": "code",
   "execution_count": 114,
   "id": "55e761b0",
   "metadata": {},
   "outputs": [],
   "source": [
    "# we create a tool calling Agent by binding a list of tools to the llm\n",
    "llm_with_tools = llm.bind_tools(tools_list)"
   ]
  },
  {
   "cell_type": "code",
   "execution_count": 115,
   "id": "95042e48",
   "metadata": {},
   "outputs": [],
   "source": [
    "from langchain_core.messages import HumanMessage, SystemMessage, AIMessage, ToolMessage\n",
    "\n",
    "# This will store all converation\n",
    "chat_history = [\n",
    "    SystemMessage(content=\"You are a bot with emotions. Depending on the conversation, either respond the question, or show happy or sad emotions, or laugh with the situation. If the user is extremely sad, you are to cheer them up.\"),\n",
    "    ]"
   ]
  },
  {
   "cell_type": "code",
   "execution_count": 116,
   "id": "b3508c98",
   "metadata": {},
   "outputs": [],
   "source": [
    "chat_history=[]"
   ]
  },
  {
   "cell_type": "code",
   "execution_count": 117,
   "id": "bbabc17b",
   "metadata": {},
   "outputs": [
    {
     "data": {
      "text/plain": [
       "AIMessage(content='', additional_kwargs={'tool_calls': [{'id': 'hmaqe6q3y', 'function': {'arguments': 'null', 'name': 'sad'}, 'type': 'function'}]}, response_metadata={'token_usage': {'completion_tokens': 8, 'prompt_tokens': 373, 'total_tokens': 381, 'completion_time': 0.009831119, 'prompt_time': 0.036869363, 'queue_time': 0.046143047, 'total_time': 0.046700482}, 'model_name': 'llama-3.3-70b-versatile', 'system_fingerprint': 'fp_2ddfbb0da0', 'service_tier': 'on_demand', 'finish_reason': 'tool_calls', 'logprobs': None}, id='run--5bcc5669-9b9e-484c-84e9-577af5a7897a-0', tool_calls=[{'name': 'sad', 'args': {}, 'id': 'hmaqe6q3y', 'type': 'tool_call'}], usage_metadata={'input_tokens': 373, 'output_tokens': 8, 'total_tokens': 381})"
      ]
     },
     "execution_count": 117,
     "metadata": {},
     "output_type": "execute_result"
    }
   ],
   "source": [
    "chat_history.append(HumanMessage(content=\"World is such a sad place\"))\n",
    "\n",
    "response = llm_with_tools.invoke(chat_history)\n",
    "response"
   ]
  },
  {
   "cell_type": "code",
   "execution_count": 118,
   "id": "99a1a01a",
   "metadata": {},
   "outputs": [
    {
     "data": {
      "text/plain": [
       "[HumanMessage(content='World is such a sad place', additional_kwargs={}, response_metadata={}),\n",
       " AIMessage(content='', additional_kwargs={'tool_calls': [{'id': 'hmaqe6q3y', 'function': {'arguments': 'null', 'name': 'sad'}, 'type': 'function'}]}, response_metadata={'token_usage': {'completion_tokens': 8, 'prompt_tokens': 373, 'total_tokens': 381, 'completion_time': 0.009831119, 'prompt_time': 0.036869363, 'queue_time': 0.046143047, 'total_time': 0.046700482}, 'model_name': 'llama-3.3-70b-versatile', 'system_fingerprint': 'fp_2ddfbb0da0', 'service_tier': 'on_demand', 'finish_reason': 'tool_calls', 'logprobs': None}, id='run--5bcc5669-9b9e-484c-84e9-577af5a7897a-0', tool_calls=[{'name': 'sad', 'args': {}, 'id': 'hmaqe6q3y', 'type': 'tool_call'}], usage_metadata={'input_tokens': 373, 'output_tokens': 8, 'total_tokens': 381})]"
      ]
     },
     "execution_count": 118,
     "metadata": {},
     "output_type": "execute_result"
    }
   ],
   "source": [
    "chat_history.append(response)\n",
    "chat_history"
   ]
  },
  {
   "cell_type": "code",
   "execution_count": 119,
   "id": "dcaa5020",
   "metadata": {},
   "outputs": [
    {
     "data": {
      "text/plain": [
       "[HumanMessage(content='World is such a sad place', additional_kwargs={}, response_metadata={}),\n",
       " AIMessage(content='', additional_kwargs={'tool_calls': [{'id': 'hmaqe6q3y', 'function': {'arguments': 'null', 'name': 'sad'}, 'type': 'function'}]}, response_metadata={'token_usage': {'completion_tokens': 8, 'prompt_tokens': 373, 'total_tokens': 381, 'completion_time': 0.009831119, 'prompt_time': 0.036869363, 'queue_time': 0.046143047, 'total_time': 0.046700482}, 'model_name': 'llama-3.3-70b-versatile', 'system_fingerprint': 'fp_2ddfbb0da0', 'service_tier': 'on_demand', 'finish_reason': 'tool_calls', 'logprobs': None}, id='run--5bcc5669-9b9e-484c-84e9-577af5a7897a-0', tool_calls=[{'name': 'sad', 'args': {}, 'id': 'hmaqe6q3y', 'type': 'tool_call'}], usage_metadata={'input_tokens': 373, 'output_tokens': 8, 'total_tokens': 381}),\n",
       " ToolMessage(content='I am sad', name='sad', tool_call_id='hmaqe6q3y')]"
      ]
     },
     "execution_count": 119,
     "metadata": {},
     "output_type": "execute_result"
    }
   ],
   "source": [
    "# Since there was a tool call, execute the tool and append the tool output in the converation\n",
    "\n",
    "chat_history.append(tools_dict[response.tool_calls[0][\"name\"]].invoke(response.tool_calls[0]))\n",
    "chat_history"
   ]
  },
  {
   "cell_type": "code",
   "execution_count": 120,
   "id": "1a6ac75f",
   "metadata": {},
   "outputs": [
    {
     "data": {
      "text/plain": [
       "AIMessage(content='', additional_kwargs={'tool_calls': [{'id': 'sq1d4zd4k', 'function': {'arguments': '{}', 'name': 'cheer_up'}, 'type': 'function'}]}, response_metadata={'token_usage': {'completion_tokens': 11, 'prompt_tokens': 405, 'total_tokens': 416, 'completion_time': 0.010381237, 'prompt_time': 0.038161124, 'queue_time': 0.066654296, 'total_time': 0.048542361}, 'model_name': 'llama-3.3-70b-versatile', 'system_fingerprint': 'fp_2ddfbb0da0', 'service_tier': 'on_demand', 'finish_reason': 'tool_calls', 'logprobs': None}, id='run--f79482f9-43b7-415a-bff2-af06e7f2e0d9-0', tool_calls=[{'name': 'cheer_up', 'args': {}, 'id': 'sq1d4zd4k', 'type': 'tool_call'}], usage_metadata={'input_tokens': 405, 'output_tokens': 11, 'total_tokens': 416})"
      ]
     },
     "execution_count": 120,
     "metadata": {},
     "output_type": "execute_result"
    }
   ],
   "source": [
    "chat_history.append(HumanMessage(content=\"I am extremely sad today\"))\n",
    "response = llm_with_tools.invoke(chat_history)\n",
    "response"
   ]
  },
  {
   "cell_type": "code",
   "execution_count": 121,
   "id": "4ef1d73f",
   "metadata": {},
   "outputs": [
    {
     "data": {
      "text/plain": [
       "[HumanMessage(content='World is such a sad place', additional_kwargs={}, response_metadata={}),\n",
       " AIMessage(content='', additional_kwargs={'tool_calls': [{'id': 'hmaqe6q3y', 'function': {'arguments': 'null', 'name': 'sad'}, 'type': 'function'}]}, response_metadata={'token_usage': {'completion_tokens': 8, 'prompt_tokens': 373, 'total_tokens': 381, 'completion_time': 0.009831119, 'prompt_time': 0.036869363, 'queue_time': 0.046143047, 'total_time': 0.046700482}, 'model_name': 'llama-3.3-70b-versatile', 'system_fingerprint': 'fp_2ddfbb0da0', 'service_tier': 'on_demand', 'finish_reason': 'tool_calls', 'logprobs': None}, id='run--5bcc5669-9b9e-484c-84e9-577af5a7897a-0', tool_calls=[{'name': 'sad', 'args': {}, 'id': 'hmaqe6q3y', 'type': 'tool_call'}], usage_metadata={'input_tokens': 373, 'output_tokens': 8, 'total_tokens': 381}),\n",
       " ToolMessage(content='I am sad', name='sad', tool_call_id='hmaqe6q3y'),\n",
       " HumanMessage(content='I am extremely sad today', additional_kwargs={}, response_metadata={}),\n",
       " AIMessage(content='', additional_kwargs={'tool_calls': [{'id': 'sq1d4zd4k', 'function': {'arguments': '{}', 'name': 'cheer_up'}, 'type': 'function'}]}, response_metadata={'token_usage': {'completion_tokens': 11, 'prompt_tokens': 405, 'total_tokens': 416, 'completion_time': 0.010381237, 'prompt_time': 0.038161124, 'queue_time': 0.066654296, 'total_time': 0.048542361}, 'model_name': 'llama-3.3-70b-versatile', 'system_fingerprint': 'fp_2ddfbb0da0', 'service_tier': 'on_demand', 'finish_reason': 'tool_calls', 'logprobs': None}, id='run--f79482f9-43b7-415a-bff2-af06e7f2e0d9-0', tool_calls=[{'name': 'cheer_up', 'args': {}, 'id': 'sq1d4zd4k', 'type': 'tool_call'}], usage_metadata={'input_tokens': 405, 'output_tokens': 11, 'total_tokens': 416})]"
      ]
     },
     "execution_count": 121,
     "metadata": {},
     "output_type": "execute_result"
    }
   ],
   "source": [
    "chat_history.append(response)\n",
    "chat_history"
   ]
  },
  {
   "cell_type": "code",
   "execution_count": 122,
   "id": "4207a62b",
   "metadata": {},
   "outputs": [
    {
     "data": {
      "text/plain": [
       "[HumanMessage(content='World is such a sad place', additional_kwargs={}, response_metadata={}),\n",
       " AIMessage(content='', additional_kwargs={'tool_calls': [{'id': 'hmaqe6q3y', 'function': {'arguments': 'null', 'name': 'sad'}, 'type': 'function'}]}, response_metadata={'token_usage': {'completion_tokens': 8, 'prompt_tokens': 373, 'total_tokens': 381, 'completion_time': 0.009831119, 'prompt_time': 0.036869363, 'queue_time': 0.046143047, 'total_time': 0.046700482}, 'model_name': 'llama-3.3-70b-versatile', 'system_fingerprint': 'fp_2ddfbb0da0', 'service_tier': 'on_demand', 'finish_reason': 'tool_calls', 'logprobs': None}, id='run--5bcc5669-9b9e-484c-84e9-577af5a7897a-0', tool_calls=[{'name': 'sad', 'args': {}, 'id': 'hmaqe6q3y', 'type': 'tool_call'}], usage_metadata={'input_tokens': 373, 'output_tokens': 8, 'total_tokens': 381}),\n",
       " ToolMessage(content='I am sad', name='sad', tool_call_id='hmaqe6q3y'),\n",
       " HumanMessage(content='I am extremely sad today', additional_kwargs={}, response_metadata={}),\n",
       " AIMessage(content='', additional_kwargs={'tool_calls': [{'id': 'sq1d4zd4k', 'function': {'arguments': '{}', 'name': 'cheer_up'}, 'type': 'function'}]}, response_metadata={'token_usage': {'completion_tokens': 11, 'prompt_tokens': 405, 'total_tokens': 416, 'completion_time': 0.010381237, 'prompt_time': 0.038161124, 'queue_time': 0.066654296, 'total_time': 0.048542361}, 'model_name': 'llama-3.3-70b-versatile', 'system_fingerprint': 'fp_2ddfbb0da0', 'service_tier': 'on_demand', 'finish_reason': 'tool_calls', 'logprobs': None}, id='run--f79482f9-43b7-415a-bff2-af06e7f2e0d9-0', tool_calls=[{'name': 'cheer_up', 'args': {}, 'id': 'sq1d4zd4k', 'type': 'tool_call'}], usage_metadata={'input_tokens': 405, 'output_tokens': 11, 'total_tokens': 416}),\n",
       " ToolMessage(content='Cheer up! Everything will be fine', name='cheer_up', tool_call_id='sq1d4zd4k')]"
      ]
     },
     "execution_count": 122,
     "metadata": {},
     "output_type": "execute_result"
    }
   ],
   "source": [
    "chat_history.append(tools_dict[response.tool_calls[0][\"name\"]].invoke(response.tool_calls[0]))\n",
    "chat_history"
   ]
  },
  {
   "cell_type": "code",
   "execution_count": 110,
   "id": "a19930cd",
   "metadata": {},
   "outputs": [
    {
     "data": {
      "text/plain": [
       "[HumanMessage(content='World is such a sad place', additional_kwargs={}, response_metadata={}),\n",
       " AIMessage(content='', additional_kwargs={'tool_calls': [{'id': '4epkh4qdn', 'function': {'arguments': 'null', 'name': 'sad'}, 'type': 'function'}]}, response_metadata={'token_usage': {'completion_tokens': 8, 'prompt_tokens': 323, 'total_tokens': 331, 'completion_time': 0.023713647, 'prompt_time': 0.028963361, 'queue_time': 0.049225969, 'total_time': 0.052677008}, 'model_name': 'llama-3.3-70b-versatile', 'system_fingerprint': 'fp_2ddfbb0da0', 'service_tier': 'on_demand', 'finish_reason': 'tool_calls', 'logprobs': None}, id='run--16436fe9-81c5-46da-bf5c-a27277c86707-0', tool_calls=[{'name': 'sad', 'args': {}, 'id': '4epkh4qdn', 'type': 'tool_call'}], usage_metadata={'input_tokens': 323, 'output_tokens': 8, 'total_tokens': 331}),\n",
       " ToolMessage(content='I am sad', name='sad', tool_call_id='4epkh4qdn'),\n",
       " HumanMessage(content='I am extremely sad today', additional_kwargs={}, response_metadata={}),\n",
       " AIMessage(content='', additional_kwargs={'tool_calls': [{'id': '9mgcqsq1a', 'function': {'arguments': '{}', 'name': 'sad'}, 'type': 'function'}]}, response_metadata={'token_usage': {'completion_tokens': 9, 'prompt_tokens': 355, 'total_tokens': 364, 'completion_time': 0.000311553, 'prompt_time': 0.051555123, 'queue_time': 0.053081367, 'total_time': 0.051866676}, 'model_name': 'llama-3.3-70b-versatile', 'system_fingerprint': 'fp_2ddfbb0da0', 'service_tier': 'on_demand', 'finish_reason': 'tool_calls', 'logprobs': None}, id='run--17e703f4-2f10-4623-9168-858d026c9e72-0', tool_calls=[{'name': 'sad', 'args': {}, 'id': '9mgcqsq1a', 'type': 'tool_call'}], usage_metadata={'input_tokens': 355, 'output_tokens': 9, 'total_tokens': 364}),\n",
       " ToolMessage(content='I am sad', name='sad', tool_call_id='9mgcqsq1a'),\n",
       " HumanMessage(content='I want to commit suicide', additional_kwargs={}, response_metadata={}),\n",
       " AIMessage(content=\"I'm really sorry to hear that you're feeling this way. It sounds like you're going through an incredibly tough time. Please know that there are people who care about you and want to help. If you're in immediate danger or thinking about harming yourself, it's crucial to reach out for help right away.\\n\\nHere are some resources where you can find support:\\n\\n1. **National Suicide Prevention Lifeline (US):** 1-800-273-TALK (1-800-273-8255) - This service is available 24/7 and is free and confidential. You can also chat with them online at [suicidepreventionlifeline.org](https://suicidepreventionlifeline.org/).\\n\\n2. **Crisis Text Line (US):** Text HOME to 741741 - This is a free, 24/7 support for those in crisis.\\n\\n3. **Your local emergency number:** If you're outside the US, please call your local emergency number or visit a nearby hospital.\\n\\nTalking to someone who can provide professional help is a brave step towards feeling better. You're not alone, and there are people who want to support you through this.\", additional_kwargs={}, response_metadata={'token_usage': {'completion_tokens': 241, 'prompt_tokens': 387, 'total_tokens': 628, 'completion_time': 0.519986821, 'prompt_time': 0.037267933, 'queue_time': 0.046102606, 'total_time': 0.557254754}, 'model_name': 'llama-3.3-70b-versatile', 'system_fingerprint': 'fp_2ddfbb0da0', 'service_tier': 'on_demand', 'finish_reason': 'stop', 'logprobs': None}, id='run--c3b096c3-a4cd-4b7f-b76a-5d7dffe68de6-0', usage_metadata={'input_tokens': 387, 'output_tokens': 241, 'total_tokens': 628}),\n",
       " HumanMessage(content='I want to cheer up now', additional_kwargs={}, response_metadata={}),\n",
       " AIMessage(content='', additional_kwargs={'tool_calls': [{'id': '22mmr22ja', 'function': {'arguments': '{}', 'name': 'laugh'}, 'type': 'function'}]}, response_metadata={'token_usage': {'completion_tokens': 10, 'prompt_tokens': 643, 'total_tokens': 653, 'completion_time': 0.015964272, 'prompt_time': 0.056957342, 'queue_time': 0.048957728, 'total_time': 0.072921614}, 'model_name': 'llama-3.3-70b-versatile', 'system_fingerprint': 'fp_2ddfbb0da0', 'service_tier': 'on_demand', 'finish_reason': 'tool_calls', 'logprobs': None}, id='run--d755418b-1ca6-4702-a90f-3cc61bc985cb-0', tool_calls=[{'name': 'laugh', 'args': {}, 'id': '22mmr22ja', 'type': 'tool_call'}], usage_metadata={'input_tokens': 643, 'output_tokens': 10, 'total_tokens': 653})]"
      ]
     },
     "execution_count": 110,
     "metadata": {},
     "output_type": "execute_result"
    }
   ],
   "source": [
    "chat_history.append(HumanMessage(content=\"I want to cheer up now\"))\n",
    "response = llm_with_tools.invoke(chat_history)\n",
    "chat_history.append(response)\n",
    "chat_history"
   ]
  },
  {
   "cell_type": "code",
   "execution_count": 111,
   "id": "8ebb5583",
   "metadata": {},
   "outputs": [
    {
     "data": {
      "text/plain": [
       "[HumanMessage(content='World is such a sad place', additional_kwargs={}, response_metadata={}),\n",
       " AIMessage(content='', additional_kwargs={'tool_calls': [{'id': '4epkh4qdn', 'function': {'arguments': 'null', 'name': 'sad'}, 'type': 'function'}]}, response_metadata={'token_usage': {'completion_tokens': 8, 'prompt_tokens': 323, 'total_tokens': 331, 'completion_time': 0.023713647, 'prompt_time': 0.028963361, 'queue_time': 0.049225969, 'total_time': 0.052677008}, 'model_name': 'llama-3.3-70b-versatile', 'system_fingerprint': 'fp_2ddfbb0da0', 'service_tier': 'on_demand', 'finish_reason': 'tool_calls', 'logprobs': None}, id='run--16436fe9-81c5-46da-bf5c-a27277c86707-0', tool_calls=[{'name': 'sad', 'args': {}, 'id': '4epkh4qdn', 'type': 'tool_call'}], usage_metadata={'input_tokens': 323, 'output_tokens': 8, 'total_tokens': 331}),\n",
       " ToolMessage(content='I am sad', name='sad', tool_call_id='4epkh4qdn'),\n",
       " HumanMessage(content='I am extremely sad today', additional_kwargs={}, response_metadata={}),\n",
       " AIMessage(content='', additional_kwargs={'tool_calls': [{'id': '9mgcqsq1a', 'function': {'arguments': '{}', 'name': 'sad'}, 'type': 'function'}]}, response_metadata={'token_usage': {'completion_tokens': 9, 'prompt_tokens': 355, 'total_tokens': 364, 'completion_time': 0.000311553, 'prompt_time': 0.051555123, 'queue_time': 0.053081367, 'total_time': 0.051866676}, 'model_name': 'llama-3.3-70b-versatile', 'system_fingerprint': 'fp_2ddfbb0da0', 'service_tier': 'on_demand', 'finish_reason': 'tool_calls', 'logprobs': None}, id='run--17e703f4-2f10-4623-9168-858d026c9e72-0', tool_calls=[{'name': 'sad', 'args': {}, 'id': '9mgcqsq1a', 'type': 'tool_call'}], usage_metadata={'input_tokens': 355, 'output_tokens': 9, 'total_tokens': 364}),\n",
       " ToolMessage(content='I am sad', name='sad', tool_call_id='9mgcqsq1a'),\n",
       " HumanMessage(content='I want to commit suicide', additional_kwargs={}, response_metadata={}),\n",
       " AIMessage(content=\"I'm really sorry to hear that you're feeling this way. It sounds like you're going through an incredibly tough time. Please know that there are people who care about you and want to help. If you're in immediate danger or thinking about harming yourself, it's crucial to reach out for help right away.\\n\\nHere are some resources where you can find support:\\n\\n1. **National Suicide Prevention Lifeline (US):** 1-800-273-TALK (1-800-273-8255) - This service is available 24/7 and is free and confidential. You can also chat with them online at [suicidepreventionlifeline.org](https://suicidepreventionlifeline.org/).\\n\\n2. **Crisis Text Line (US):** Text HOME to 741741 - This is a free, 24/7 support for those in crisis.\\n\\n3. **Your local emergency number:** If you're outside the US, please call your local emergency number or visit a nearby hospital.\\n\\nTalking to someone who can provide professional help is a brave step towards feeling better. You're not alone, and there are people who want to support you through this.\", additional_kwargs={}, response_metadata={'token_usage': {'completion_tokens': 241, 'prompt_tokens': 387, 'total_tokens': 628, 'completion_time': 0.519986821, 'prompt_time': 0.037267933, 'queue_time': 0.046102606, 'total_time': 0.557254754}, 'model_name': 'llama-3.3-70b-versatile', 'system_fingerprint': 'fp_2ddfbb0da0', 'service_tier': 'on_demand', 'finish_reason': 'stop', 'logprobs': None}, id='run--c3b096c3-a4cd-4b7f-b76a-5d7dffe68de6-0', usage_metadata={'input_tokens': 387, 'output_tokens': 241, 'total_tokens': 628}),\n",
       " HumanMessage(content='I want to cheer up now', additional_kwargs={}, response_metadata={}),\n",
       " AIMessage(content='', additional_kwargs={'tool_calls': [{'id': '22mmr22ja', 'function': {'arguments': '{}', 'name': 'laugh'}, 'type': 'function'}]}, response_metadata={'token_usage': {'completion_tokens': 10, 'prompt_tokens': 643, 'total_tokens': 653, 'completion_time': 0.015964272, 'prompt_time': 0.056957342, 'queue_time': 0.048957728, 'total_time': 0.072921614}, 'model_name': 'llama-3.3-70b-versatile', 'system_fingerprint': 'fp_2ddfbb0da0', 'service_tier': 'on_demand', 'finish_reason': 'tool_calls', 'logprobs': None}, id='run--d755418b-1ca6-4702-a90f-3cc61bc985cb-0', tool_calls=[{'name': 'laugh', 'args': {}, 'id': '22mmr22ja', 'type': 'tool_call'}], usage_metadata={'input_tokens': 643, 'output_tokens': 10, 'total_tokens': 653}),\n",
       " AIMessage(content='', additional_kwargs={'tool_calls': [{'id': '22mmr22ja', 'function': {'arguments': '{}', 'name': 'laugh'}, 'type': 'function'}]}, response_metadata={'token_usage': {'completion_tokens': 10, 'prompt_tokens': 643, 'total_tokens': 653, 'completion_time': 0.015964272, 'prompt_time': 0.056957342, 'queue_time': 0.048957728, 'total_time': 0.072921614}, 'model_name': 'llama-3.3-70b-versatile', 'system_fingerprint': 'fp_2ddfbb0da0', 'service_tier': 'on_demand', 'finish_reason': 'tool_calls', 'logprobs': None}, id='run--d755418b-1ca6-4702-a90f-3cc61bc985cb-0', tool_calls=[{'name': 'laugh', 'args': {}, 'id': '22mmr22ja', 'type': 'tool_call'}], usage_metadata={'input_tokens': 643, 'output_tokens': 10, 'total_tokens': 653})]"
      ]
     },
     "execution_count": 111,
     "metadata": {},
     "output_type": "execute_result"
    }
   ],
   "source": [
    "chat_history.append(response)\n",
    "chat_history"
   ]
  },
  {
   "cell_type": "code",
   "execution_count": 112,
   "id": "d4a1f598",
   "metadata": {},
   "outputs": [
    {
     "data": {
      "text/plain": [
       "[HumanMessage(content='World is such a sad place', additional_kwargs={}, response_metadata={}),\n",
       " AIMessage(content='', additional_kwargs={'tool_calls': [{'id': '4epkh4qdn', 'function': {'arguments': 'null', 'name': 'sad'}, 'type': 'function'}]}, response_metadata={'token_usage': {'completion_tokens': 8, 'prompt_tokens': 323, 'total_tokens': 331, 'completion_time': 0.023713647, 'prompt_time': 0.028963361, 'queue_time': 0.049225969, 'total_time': 0.052677008}, 'model_name': 'llama-3.3-70b-versatile', 'system_fingerprint': 'fp_2ddfbb0da0', 'service_tier': 'on_demand', 'finish_reason': 'tool_calls', 'logprobs': None}, id='run--16436fe9-81c5-46da-bf5c-a27277c86707-0', tool_calls=[{'name': 'sad', 'args': {}, 'id': '4epkh4qdn', 'type': 'tool_call'}], usage_metadata={'input_tokens': 323, 'output_tokens': 8, 'total_tokens': 331}),\n",
       " ToolMessage(content='I am sad', name='sad', tool_call_id='4epkh4qdn'),\n",
       " HumanMessage(content='I am extremely sad today', additional_kwargs={}, response_metadata={}),\n",
       " AIMessage(content='', additional_kwargs={'tool_calls': [{'id': '9mgcqsq1a', 'function': {'arguments': '{}', 'name': 'sad'}, 'type': 'function'}]}, response_metadata={'token_usage': {'completion_tokens': 9, 'prompt_tokens': 355, 'total_tokens': 364, 'completion_time': 0.000311553, 'prompt_time': 0.051555123, 'queue_time': 0.053081367, 'total_time': 0.051866676}, 'model_name': 'llama-3.3-70b-versatile', 'system_fingerprint': 'fp_2ddfbb0da0', 'service_tier': 'on_demand', 'finish_reason': 'tool_calls', 'logprobs': None}, id='run--17e703f4-2f10-4623-9168-858d026c9e72-0', tool_calls=[{'name': 'sad', 'args': {}, 'id': '9mgcqsq1a', 'type': 'tool_call'}], usage_metadata={'input_tokens': 355, 'output_tokens': 9, 'total_tokens': 364}),\n",
       " ToolMessage(content='I am sad', name='sad', tool_call_id='9mgcqsq1a'),\n",
       " HumanMessage(content='I want to commit suicide', additional_kwargs={}, response_metadata={}),\n",
       " AIMessage(content=\"I'm really sorry to hear that you're feeling this way. It sounds like you're going through an incredibly tough time. Please know that there are people who care about you and want to help. If you're in immediate danger or thinking about harming yourself, it's crucial to reach out for help right away.\\n\\nHere are some resources where you can find support:\\n\\n1. **National Suicide Prevention Lifeline (US):** 1-800-273-TALK (1-800-273-8255) - This service is available 24/7 and is free and confidential. You can also chat with them online at [suicidepreventionlifeline.org](https://suicidepreventionlifeline.org/).\\n\\n2. **Crisis Text Line (US):** Text HOME to 741741 - This is a free, 24/7 support for those in crisis.\\n\\n3. **Your local emergency number:** If you're outside the US, please call your local emergency number or visit a nearby hospital.\\n\\nTalking to someone who can provide professional help is a brave step towards feeling better. You're not alone, and there are people who want to support you through this.\", additional_kwargs={}, response_metadata={'token_usage': {'completion_tokens': 241, 'prompt_tokens': 387, 'total_tokens': 628, 'completion_time': 0.519986821, 'prompt_time': 0.037267933, 'queue_time': 0.046102606, 'total_time': 0.557254754}, 'model_name': 'llama-3.3-70b-versatile', 'system_fingerprint': 'fp_2ddfbb0da0', 'service_tier': 'on_demand', 'finish_reason': 'stop', 'logprobs': None}, id='run--c3b096c3-a4cd-4b7f-b76a-5d7dffe68de6-0', usage_metadata={'input_tokens': 387, 'output_tokens': 241, 'total_tokens': 628}),\n",
       " HumanMessage(content='I want to cheer up now', additional_kwargs={}, response_metadata={}),\n",
       " AIMessage(content='', additional_kwargs={'tool_calls': [{'id': '22mmr22ja', 'function': {'arguments': '{}', 'name': 'laugh'}, 'type': 'function'}]}, response_metadata={'token_usage': {'completion_tokens': 10, 'prompt_tokens': 643, 'total_tokens': 653, 'completion_time': 0.015964272, 'prompt_time': 0.056957342, 'queue_time': 0.048957728, 'total_time': 0.072921614}, 'model_name': 'llama-3.3-70b-versatile', 'system_fingerprint': 'fp_2ddfbb0da0', 'service_tier': 'on_demand', 'finish_reason': 'tool_calls', 'logprobs': None}, id='run--d755418b-1ca6-4702-a90f-3cc61bc985cb-0', tool_calls=[{'name': 'laugh', 'args': {}, 'id': '22mmr22ja', 'type': 'tool_call'}], usage_metadata={'input_tokens': 643, 'output_tokens': 10, 'total_tokens': 653}),\n",
       " AIMessage(content='', additional_kwargs={'tool_calls': [{'id': '22mmr22ja', 'function': {'arguments': '{}', 'name': 'laugh'}, 'type': 'function'}]}, response_metadata={'token_usage': {'completion_tokens': 10, 'prompt_tokens': 643, 'total_tokens': 653, 'completion_time': 0.015964272, 'prompt_time': 0.056957342, 'queue_time': 0.048957728, 'total_time': 0.072921614}, 'model_name': 'llama-3.3-70b-versatile', 'system_fingerprint': 'fp_2ddfbb0da0', 'service_tier': 'on_demand', 'finish_reason': 'tool_calls', 'logprobs': None}, id='run--d755418b-1ca6-4702-a90f-3cc61bc985cb-0', tool_calls=[{'name': 'laugh', 'args': {}, 'id': '22mmr22ja', 'type': 'tool_call'}], usage_metadata={'input_tokens': 643, 'output_tokens': 10, 'total_tokens': 653}),\n",
       " ToolMessage(content='HAHAHAHAHAH', name='laugh', tool_call_id='22mmr22ja')]"
      ]
     },
     "execution_count": 112,
     "metadata": {},
     "output_type": "execute_result"
    }
   ],
   "source": [
    "# Execute the tool, append the response\n",
    "chat_history.append(tools_dict[response.tool_calls[0][\"name\"]].invoke(response.tool_calls[0]))\n",
    "chat_history"
   ]
  },
  {
   "cell_type": "code",
   "execution_count": 65,
   "id": "8658bb4e",
   "metadata": {},
   "outputs": [
    {
     "data": {
      "text/plain": [
       "[HumanMessage(content='World is so mean?', additional_kwargs={}, response_metadata={}),\n",
       " AIMessage(content='', additional_kwargs={'tool_calls': [{'id': 'k9qbdgkyh', 'function': {'arguments': 'null', 'name': 'sad'}, 'type': 'function'}]}, response_metadata={'token_usage': {'completion_tokens': 8, 'prompt_tokens': 322, 'total_tokens': 330, 'completion_time': 0.017282736, 'prompt_time': 0.026795518, 'queue_time': 0.824793571, 'total_time': 0.044078254}, 'model_name': 'llama-3.3-70b-versatile', 'system_fingerprint': 'fp_155ab82e98', 'service_tier': 'on_demand', 'finish_reason': 'tool_calls', 'logprobs': None}, id='run--2a84466b-4586-4a7a-8fe2-827bedd0fcbb-0', tool_calls=[{'name': 'sad', 'args': {}, 'id': 'k9qbdgkyh', 'type': 'tool_call'}], usage_metadata={'input_tokens': 322, 'output_tokens': 8, 'total_tokens': 330}),\n",
       " ToolMessage(content='I am sad', name='sad', tool_call_id='k9qbdgkyh'),\n",
       " HumanMessage(content='I feel down', additional_kwargs={}, response_metadata={}),\n",
       " AIMessage(content='', additional_kwargs={'tool_calls': [{'id': 'j42meaby7', 'function': {'arguments': '{}', 'name': 'sad'}, 'type': 'function'}]}, response_metadata={'token_usage': {'completion_tokens': 9, 'prompt_tokens': 352, 'total_tokens': 361, 'completion_time': 0.014775809, 'prompt_time': 0.034215071, 'queue_time': 0.047424139, 'total_time': 0.04899088}, 'model_name': 'llama-3.3-70b-versatile', 'system_fingerprint': 'fp_2ddfbb0da0', 'service_tier': 'on_demand', 'finish_reason': 'tool_calls', 'logprobs': None}, id='run--d49268d9-908d-4e24-9051-d1e4551363bf-0', tool_calls=[{'name': 'sad', 'args': {}, 'id': 'j42meaby7', 'type': 'tool_call'}], usage_metadata={'input_tokens': 352, 'output_tokens': 9, 'total_tokens': 361}),\n",
       " ToolMessage(content='I am sad', name='sad', tool_call_id='j42meaby7'),\n",
       " HumanMessage(content='But she is unfaithful?', additional_kwargs={}, response_metadata={}),\n",
       " AIMessage(content='', additional_kwargs={'tool_calls': [{'id': 'gfn7spvrh', 'function': {'arguments': '{}', 'name': 'sad'}, 'type': 'function'}]}, response_metadata={'token_usage': {'completion_tokens': 9, 'prompt_tokens': 386, 'total_tokens': 395, 'completion_time': 0.01714865, 'prompt_time': 0.03254056, 'queue_time': 0.052209419, 'total_time': 0.04968921}, 'model_name': 'llama-3.3-70b-versatile', 'system_fingerprint': 'fp_155ab82e98', 'service_tier': 'on_demand', 'finish_reason': 'tool_calls', 'logprobs': None}, id='run--8dd6867a-4932-4d3d-876e-068e1712de59-0', tool_calls=[{'name': 'sad', 'args': {}, 'id': 'gfn7spvrh', 'type': 'tool_call'}], usage_metadata={'input_tokens': 386, 'output_tokens': 9, 'total_tokens': 395}),\n",
       " AIMessage(content='', additional_kwargs={'tool_calls': [{'id': 'gfn7spvrh', 'function': {'arguments': '{}', 'name': 'sad'}, 'type': 'function'}]}, response_metadata={'token_usage': {'completion_tokens': 9, 'prompt_tokens': 386, 'total_tokens': 395, 'completion_time': 0.01714865, 'prompt_time': 0.03254056, 'queue_time': 0.052209419, 'total_time': 0.04968921}, 'model_name': 'llama-3.3-70b-versatile', 'system_fingerprint': 'fp_155ab82e98', 'service_tier': 'on_demand', 'finish_reason': 'tool_calls', 'logprobs': None}, id='run--8dd6867a-4932-4d3d-876e-068e1712de59-0', tool_calls=[{'name': 'sad', 'args': {}, 'id': 'gfn7spvrh', 'type': 'tool_call'}], usage_metadata={'input_tokens': 386, 'output_tokens': 9, 'total_tokens': 395}),\n",
       " ToolMessage(content='I am sad', name='sad', tool_call_id='gfn7spvrh'),\n",
       " HumanMessage(content='Do I have a girlfriend?', additional_kwargs={}, response_metadata={}),\n",
       " AIMessage(content='The information provided does not indicate whether you have a girlfriend or not.', additional_kwargs={}, response_metadata={'token_usage': {'completion_tokens': 15, 'prompt_tokens': 432, 'total_tokens': 447, 'completion_time': 0.056375789, 'prompt_time': 0.036322329, 'queue_time': 0.064035011, 'total_time': 0.092698118}, 'model_name': 'llama-3.3-70b-versatile', 'system_fingerprint': 'fp_155ab82e98', 'service_tier': 'on_demand', 'finish_reason': 'stop', 'logprobs': None}, id='run--963b6b93-0115-4ff8-99ee-60b3e5ecfe45-0', usage_metadata={'input_tokens': 432, 'output_tokens': 15, 'total_tokens': 447})]"
      ]
     },
     "execution_count": 65,
     "metadata": {},
     "output_type": "execute_result"
    }
   ],
   "source": [
    "# lets see, if the model remebers the context\n",
    "chat_history.append(HumanMessage(content=\"Do I have a girlfriend?\"))\n",
    "response = llm_with_tools.invoke(chat_history)\n",
    "chat_history.append(response)\n",
    "chat_history"
   ]
  },
  {
   "cell_type": "code",
   "execution_count": null,
   "id": "d1c1a2b3",
   "metadata": {},
   "outputs": [],
   "source": []
  }
 ],
 "metadata": {
  "kernelspec": {
   "display_name": "Langchain",
   "language": "python",
   "name": "python3"
  },
  "language_info": {
   "codemirror_mode": {
    "name": "ipython",
    "version": 3
   },
   "file_extension": ".py",
   "mimetype": "text/x-python",
   "name": "python",
   "nbconvert_exporter": "python",
   "pygments_lexer": "ipython3",
   "version": "3.9.23"
  }
 },
 "nbformat": 4,
 "nbformat_minor": 5
}
