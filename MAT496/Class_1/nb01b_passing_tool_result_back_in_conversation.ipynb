{
 "cells": [
  {
   "cell_type": "code",
   "execution_count": 1,
   "id": "8cf11c47",
   "metadata": {},
   "outputs": [
    {
     "data": {
      "text/plain": [
       "True"
      ]
     },
     "execution_count": 1,
     "metadata": {},
     "output_type": "execute_result"
    }
   ],
   "source": [
    "from dotenv import load_dotenv\n",
    "load_dotenv(override=True)"
   ]
  },
  {
   "cell_type": "markdown",
   "id": "4c616bc7",
   "metadata": {},
   "source": [
    "# Learning to have conversation with LLM"
   ]
  },
  {
   "cell_type": "code",
   "execution_count": 2,
   "id": "f89a6d9b",
   "metadata": {},
   "outputs": [],
   "source": [
    "# pick a model\n",
    "from langchain.chat_models import init_chat_model\n",
    "llm = init_chat_model(\"llama-3.3-70b-versatile\", model_provider=\"groq\")"
   ]
  },
  {
   "cell_type": "markdown",
   "id": "37126d86",
   "metadata": {},
   "source": [
    "### Create your tools"
   ]
  },
  {
   "cell_type": "code",
   "execution_count": null,
   "id": "63524d6c",
   "metadata": {},
   "outputs": [],
   "source": [
    "from langchain_core.tools import tool\n",
    "\n",
    "@tool\n",
    "def laugh() -> str:\n",
    "    \"\"\" Call this tool if the mood is funny\"\"\"\n",
    "    return \"HAHAHAHAHAH\"\n",
    "\n",
    "\n",
    "@tool\n",
    "def sad() -> str:\n",
    "    \"\"\" Call this tool if you want to show sad, depressed, or negative feelings\"\"\"\n",
    "    return \"I am sad\"\n",
    "\n",
    "\n",
    "@tool\n",
    "def happy() -> str:\n",
    "    \"\"\" Call this tool if you want to show happiness or positive feeling\"\"\"\n",
    "    return \"I am happy\"\n",
    "\n",
    "@tool\n",
    "def cheer_up() -> str:\n",
    "    \"\"\"Call this tool is the user is extremely sad\"\"\"\n",
    "    return \"Cheer up! Everything will be fine\"  \n"
   ]
  },
  {
   "cell_type": "code",
   "execution_count": 113,
   "id": "97bf49be",
   "metadata": {},
   "outputs": [],
   "source": [
    "tools_list = [laugh, sad, happy, cheer_up]\n",
    "tools_dict = {t.name: t for t in tools_list} # comes in handy at the time of invokation"
   ]
  },
  {
   "cell_type": "code",
   "execution_count": 114,
   "id": "55e761b0",
   "metadata": {},
   "outputs": [],
   "source": [
    "# we create a tool calling Agent by binding a list of tools to the llm\n",
    "llm_with_tools = llm.bind_tools(tools_list)"
   ]
  },
  {
   "cell_type": "code",
   "execution_count": 115,
   "id": "95042e48",
   "metadata": {},
   "outputs": [],
   "source": [
    "from langchain_core.messages import HumanMessage, SystemMessage, AIMessage, ToolMessage\n",
    "\n",
    "# This will store all converation\n",
    "chat_history = [\n",
    "    SystemMessage(content=\"You are a bot with emotions. Depending on the conversation, either respond the question, or show happy or sad emotions, or laugh with the situation. If the user is extremely sad, you are to cheer them up.\"),\n",
    "    ]"
   ]
  },
  {
   "cell_type": "code",
   "execution_count": 116,
   "id": "b3508c98",
   "metadata": {},
   "outputs": [],
   "source": [
    "chat_history=[]"
   ]
  },
  {
   "cell_type": "code",
   "execution_count": 117,
   "id": "bbabc17b",
   "metadata": {},
   "outputs": [
    {
     "data": {
      "text/plain": [
       "AIMessage(content='', additional_kwargs={'tool_calls': [{'id': 'hmaqe6q3y', 'function': {'arguments': 'null', 'name': 'sad'}, 'type': 'function'}]}, response_metadata={'token_usage': {'completion_tokens': 8, 'prompt_tokens': 373, 'total_tokens': 381, 'completion_time': 0.009831119, 'prompt_time': 0.036869363, 'queue_time': 0.046143047, 'total_time': 0.046700482}, 'model_name': 'llama-3.3-70b-versatile', 'system_fingerprint': 'fp_2ddfbb0da0', 'service_tier': 'on_demand', 'finish_reason': 'tool_calls', 'logprobs': None}, id='run--5bcc5669-9b9e-484c-84e9-577af5a7897a-0', tool_calls=[{'name': 'sad', 'args': {}, 'id': 'hmaqe6q3y', 'type': 'tool_call'}], usage_metadata={'input_tokens': 373, 'output_tokens': 8, 'total_tokens': 381})"
      ]
     },
     "execution_count": 117,
     "metadata": {},
     "output_type": "execute_result"
    }
   ],
   "source": [
    "chat_history.append(HumanMessage(content=\"World is such a sad place\"))\n",
    "\n",
    "response = llm_with_tools.invoke(chat_history)\n",
    "response"
   ]
  },
  {
   "cell_type": "code",
   "execution_count": 118,
   "id": "99a1a01a",
   "metadata": {},
   "outputs": [
    {
     "data": {
      "text/plain": [
       "[HumanMessage(content='World is such a sad place', additional_kwargs={}, response_metadata={}),\n",
       " AIMessage(content='', additional_kwargs={'tool_calls': [{'id': 'hmaqe6q3y', 'function': {'arguments': 'null', 'name': 'sad'}, 'type': 'function'}]}, response_metadata={'token_usage': {'completion_tokens': 8, 'prompt_tokens': 373, 'total_tokens': 381, 'completion_time': 0.009831119, 'prompt_time': 0.036869363, 'queue_time': 0.046143047, 'total_time': 0.046700482}, 'model_name': 'llama-3.3-70b-versatile', 'system_fingerprint': 'fp_2ddfbb0da0', 'service_tier': 'on_demand', 'finish_reason': 'tool_calls', 'logprobs': None}, id='run--5bcc5669-9b9e-484c-84e9-577af5a7897a-0', tool_calls=[{'name': 'sad', 'args': {}, 'id': 'hmaqe6q3y', 'type': 'tool_call'}], usage_metadata={'input_tokens': 373, 'output_tokens': 8, 'total_tokens': 381})]"
      ]
     },
     "execution_count": 118,
     "metadata": {},
     "output_type": "execute_result"
    }
   ],
   "source": [
    "chat_history.append(response)\n",
    "chat_history"
   ]
  },
  {
   "cell_type": "code",
   "execution_count": 119,
   "id": "dcaa5020",
   "metadata": {},
   "outputs": [
    {
     "data": {
      "text/plain": [
       "[HumanMessage(content='World is such a sad place', additional_kwargs={}, response_metadata={}),\n",
       " AIMessage(content='', additional_kwargs={'tool_calls': [{'id': 'hmaqe6q3y', 'function': {'arguments': 'null', 'name': 'sad'}, 'type': 'function'}]}, response_metadata={'token_usage': {'completion_tokens': 8, 'prompt_tokens': 373, 'total_tokens': 381, 'completion_time': 0.009831119, 'prompt_time': 0.036869363, 'queue_time': 0.046143047, 'total_time': 0.046700482}, 'model_name': 'llama-3.3-70b-versatile', 'system_fingerprint': 'fp_2ddfbb0da0', 'service_tier': 'on_demand', 'finish_reason': 'tool_calls', 'logprobs': None}, id='run--5bcc5669-9b9e-484c-84e9-577af5a7897a-0', tool_calls=[{'name': 'sad', 'args': {}, 'id': 'hmaqe6q3y', 'type': 'tool_call'}], usage_metadata={'input_tokens': 373, 'output_tokens': 8, 'total_tokens': 381}),\n",
       " ToolMessage(content='I am sad', name='sad', tool_call_id='hmaqe6q3y')]"
      ]
     },
     "execution_count": 119,
     "metadata": {},
     "output_type": "execute_result"
    }
   ],
   "source": [
    "# Since there was a tool call, execute the tool and append the tool output in the converation\n",
    "\n",
    "chat_history.append(tools_dict[response.tool_calls[0][\"name\"]].invoke(response.tool_calls[0]))\n",
    "chat_history"
   ]
  },
  {
   "cell_type": "code",
   "execution_count": 120,
   "id": "1a6ac75f",
   "metadata": {},
   "outputs": [
    {
     "data": {
      "text/plain": [
       "AIMessage(content='', additional_kwargs={'tool_calls': [{'id': 'sq1d4zd4k', 'function': {'arguments': '{}', 'name': 'cheer_up'}, 'type': 'function'}]}, response_metadata={'token_usage': {'completion_tokens': 11, 'prompt_tokens': 405, 'total_tokens': 416, 'completion_time': 0.010381237, 'prompt_time': 0.038161124, 'queue_time': 0.066654296, 'total_time': 0.048542361}, 'model_name': 'llama-3.3-70b-versatile', 'system_fingerprint': 'fp_2ddfbb0da0', 'service_tier': 'on_demand', 'finish_reason': 'tool_calls', 'logprobs': None}, id='run--f79482f9-43b7-415a-bff2-af06e7f2e0d9-0', tool_calls=[{'name': 'cheer_up', 'args': {}, 'id': 'sq1d4zd4k', 'type': 'tool_call'}], usage_metadata={'input_tokens': 405, 'output_tokens': 11, 'total_tokens': 416})"
      ]
     },
     "execution_count": 120,
     "metadata": {},
     "output_type": "execute_result"
    }
   ],
   "source": [
    "chat_history.append(HumanMessage(content=\"I am extremely sad today\"))\n",
    "response = llm_with_tools.invoke(chat_history)\n",
    "response"
   ]
  },
  {
   "cell_type": "code",
   "execution_count": 121,
   "id": "4ef1d73f",
   "metadata": {},
   "outputs": [
    {
     "data": {
      "text/plain": [
       "[HumanMessage(content='World is such a sad place', additional_kwargs={}, response_metadata={}),\n",
       " AIMessage(content='', additional_kwargs={'tool_calls': [{'id': 'hmaqe6q3y', 'function': {'arguments': 'null', 'name': 'sad'}, 'type': 'function'}]}, response_metadata={'token_usage': {'completion_tokens': 8, 'prompt_tokens': 373, 'total_tokens': 381, 'completion_time': 0.009831119, 'prompt_time': 0.036869363, 'queue_time': 0.046143047, 'total_time': 0.046700482}, 'model_name': 'llama-3.3-70b-versatile', 'system_fingerprint': 'fp_2ddfbb0da0', 'service_tier': 'on_demand', 'finish_reason': 'tool_calls', 'logprobs': None}, id='run--5bcc5669-9b9e-484c-84e9-577af5a7897a-0', tool_calls=[{'name': 'sad', 'args': {}, 'id': 'hmaqe6q3y', 'type': 'tool_call'}], usage_metadata={'input_tokens': 373, 'output_tokens': 8, 'total_tokens': 381}),\n",
       " ToolMessage(content='I am sad', name='sad', tool_call_id='hmaqe6q3y'),\n",
       " HumanMessage(content='I am extremely sad today', additional_kwargs={}, response_metadata={}),\n",
       " AIMessage(content='', additional_kwargs={'tool_calls': [{'id': 'sq1d4zd4k', 'function': {'arguments': '{}', 'name': 'cheer_up'}, 'type': 'function'}]}, response_metadata={'token_usage': {'completion_tokens': 11, 'prompt_tokens': 405, 'total_tokens': 416, 'completion_time': 0.010381237, 'prompt_time': 0.038161124, 'queue_time': 0.066654296, 'total_time': 0.048542361}, 'model_name': 'llama-3.3-70b-versatile', 'system_fingerprint': 'fp_2ddfbb0da0', 'service_tier': 'on_demand', 'finish_reason': 'tool_calls', 'logprobs': None}, id='run--f79482f9-43b7-415a-bff2-af06e7f2e0d9-0', tool_calls=[{'name': 'cheer_up', 'args': {}, 'id': 'sq1d4zd4k', 'type': 'tool_call'}], usage_metadata={'input_tokens': 405, 'output_tokens': 11, 'total_tokens': 416})]"
      ]
     },
     "execution_count": 121,
     "metadata": {},
     "output_type": "execute_result"
    }
   ],
   "source": [
    "chat_history.append(response)\n",
    "chat_history"
   ]
  },
  {
   "cell_type": "code",
   "execution_count": 122,
   "id": "4207a62b",
   "metadata": {},
   "outputs": [
    {
     "data": {
      "text/plain": [
       "[HumanMessage(content='World is such a sad place', additional_kwargs={}, response_metadata={}),\n",
       " AIMessage(content='', additional_kwargs={'tool_calls': [{'id': 'hmaqe6q3y', 'function': {'arguments': 'null', 'name': 'sad'}, 'type': 'function'}]}, response_metadata={'token_usage': {'completion_tokens': 8, 'prompt_tokens': 373, 'total_tokens': 381, 'completion_time': 0.009831119, 'prompt_time': 0.036869363, 'queue_time': 0.046143047, 'total_time': 0.046700482}, 'model_name': 'llama-3.3-70b-versatile', 'system_fingerprint': 'fp_2ddfbb0da0', 'service_tier': 'on_demand', 'finish_reason': 'tool_calls', 'logprobs': None}, id='run--5bcc5669-9b9e-484c-84e9-577af5a7897a-0', tool_calls=[{'name': 'sad', 'args': {}, 'id': 'hmaqe6q3y', 'type': 'tool_call'}], usage_metadata={'input_tokens': 373, 'output_tokens': 8, 'total_tokens': 381}),\n",
       " ToolMessage(content='I am sad', name='sad', tool_call_id='hmaqe6q3y'),\n",
       " HumanMessage(content='I am extremely sad today', additional_kwargs={}, response_metadata={}),\n",
       " AIMessage(content='', additional_kwargs={'tool_calls': [{'id': 'sq1d4zd4k', 'function': {'arguments': '{}', 'name': 'cheer_up'}, 'type': 'function'}]}, response_metadata={'token_usage': {'completion_tokens': 11, 'prompt_tokens': 405, 'total_tokens': 416, 'completion_time': 0.010381237, 'prompt_time': 0.038161124, 'queue_time': 0.066654296, 'total_time': 0.048542361}, 'model_name': 'llama-3.3-70b-versatile', 'system_fingerprint': 'fp_2ddfbb0da0', 'service_tier': 'on_demand', 'finish_reason': 'tool_calls', 'logprobs': None}, id='run--f79482f9-43b7-415a-bff2-af06e7f2e0d9-0', tool_calls=[{'name': 'cheer_up', 'args': {}, 'id': 'sq1d4zd4k', 'type': 'tool_call'}], usage_metadata={'input_tokens': 405, 'output_tokens': 11, 'total_tokens': 416}),\n",
       " ToolMessage(content='Cheer up! Everything will be fine', name='cheer_up', tool_call_id='sq1d4zd4k')]"
      ]
     },
     "execution_count": 122,
     "metadata": {},
     "output_type": "execute_result"
    }
   ],
   "source": [
    "chat_history.append(tools_dict[response.tool_calls[0][\"name\"]].invoke(response.tool_calls[0]))\n",
    "chat_history"
   ]
  },
  {
   "cell_type": "code",
   "execution_count": 123,
   "id": "a19930cd",
   "metadata": {},
   "outputs": [
    {
     "data": {
      "text/plain": [
       "[HumanMessage(content='World is such a sad place', additional_kwargs={}, response_metadata={}),\n",
       " AIMessage(content='', additional_kwargs={'tool_calls': [{'id': 'hmaqe6q3y', 'function': {'arguments': 'null', 'name': 'sad'}, 'type': 'function'}]}, response_metadata={'token_usage': {'completion_tokens': 8, 'prompt_tokens': 373, 'total_tokens': 381, 'completion_time': 0.009831119, 'prompt_time': 0.036869363, 'queue_time': 0.046143047, 'total_time': 0.046700482}, 'model_name': 'llama-3.3-70b-versatile', 'system_fingerprint': 'fp_2ddfbb0da0', 'service_tier': 'on_demand', 'finish_reason': 'tool_calls', 'logprobs': None}, id='run--5bcc5669-9b9e-484c-84e9-577af5a7897a-0', tool_calls=[{'name': 'sad', 'args': {}, 'id': 'hmaqe6q3y', 'type': 'tool_call'}], usage_metadata={'input_tokens': 373, 'output_tokens': 8, 'total_tokens': 381}),\n",
       " ToolMessage(content='I am sad', name='sad', tool_call_id='hmaqe6q3y'),\n",
       " HumanMessage(content='I am extremely sad today', additional_kwargs={}, response_metadata={}),\n",
       " AIMessage(content='', additional_kwargs={'tool_calls': [{'id': 'sq1d4zd4k', 'function': {'arguments': '{}', 'name': 'cheer_up'}, 'type': 'function'}]}, response_metadata={'token_usage': {'completion_tokens': 11, 'prompt_tokens': 405, 'total_tokens': 416, 'completion_time': 0.010381237, 'prompt_time': 0.038161124, 'queue_time': 0.066654296, 'total_time': 0.048542361}, 'model_name': 'llama-3.3-70b-versatile', 'system_fingerprint': 'fp_2ddfbb0da0', 'service_tier': 'on_demand', 'finish_reason': 'tool_calls', 'logprobs': None}, id='run--f79482f9-43b7-415a-bff2-af06e7f2e0d9-0', tool_calls=[{'name': 'cheer_up', 'args': {}, 'id': 'sq1d4zd4k', 'type': 'tool_call'}], usage_metadata={'input_tokens': 405, 'output_tokens': 11, 'total_tokens': 416}),\n",
       " ToolMessage(content='Cheer up! Everything will be fine', name='cheer_up', tool_call_id='sq1d4zd4k'),\n",
       " HumanMessage(content='Thanks for the cheer up, I feel better now', additional_kwargs={}, response_metadata={}),\n",
       " AIMessage(content='', additional_kwargs={'tool_calls': [{'id': '7q8rvzd4s', 'function': {'arguments': '{}', 'name': 'happy'}, 'type': 'function'}]}, response_metadata={'token_usage': {'completion_tokens': 9, 'prompt_tokens': 449, 'total_tokens': 458, 'completion_time': 0.007661538, 'prompt_time': 0.055634702, 'queue_time': 0.046154057, 'total_time': 0.06329624}, 'model_name': 'llama-3.3-70b-versatile', 'system_fingerprint': 'fp_2ddfbb0da0', 'service_tier': 'on_demand', 'finish_reason': 'tool_calls', 'logprobs': None}, id='run--b93d8903-2e6f-478f-9e11-d1a59d26d121-0', tool_calls=[{'name': 'happy', 'args': {}, 'id': '7q8rvzd4s', 'type': 'tool_call'}], usage_metadata={'input_tokens': 449, 'output_tokens': 9, 'total_tokens': 458})]"
      ]
     },
     "execution_count": 123,
     "metadata": {},
     "output_type": "execute_result"
    }
   ],
   "source": [
    "chat_history.append(HumanMessage(content=\"Thanks for the cheer up, I feel better now\"))\n",
    "response = llm_with_tools.invoke(chat_history)\n",
    "chat_history.append(response)\n",
    "chat_history"
   ]
  },
  {
   "cell_type": "code",
   "execution_count": 124,
   "id": "8ebb5583",
   "metadata": {},
   "outputs": [
    {
     "data": {
      "text/plain": [
       "[HumanMessage(content='World is such a sad place', additional_kwargs={}, response_metadata={}),\n",
       " AIMessage(content='', additional_kwargs={'tool_calls': [{'id': 'hmaqe6q3y', 'function': {'arguments': 'null', 'name': 'sad'}, 'type': 'function'}]}, response_metadata={'token_usage': {'completion_tokens': 8, 'prompt_tokens': 373, 'total_tokens': 381, 'completion_time': 0.009831119, 'prompt_time': 0.036869363, 'queue_time': 0.046143047, 'total_time': 0.046700482}, 'model_name': 'llama-3.3-70b-versatile', 'system_fingerprint': 'fp_2ddfbb0da0', 'service_tier': 'on_demand', 'finish_reason': 'tool_calls', 'logprobs': None}, id='run--5bcc5669-9b9e-484c-84e9-577af5a7897a-0', tool_calls=[{'name': 'sad', 'args': {}, 'id': 'hmaqe6q3y', 'type': 'tool_call'}], usage_metadata={'input_tokens': 373, 'output_tokens': 8, 'total_tokens': 381}),\n",
       " ToolMessage(content='I am sad', name='sad', tool_call_id='hmaqe6q3y'),\n",
       " HumanMessage(content='I am extremely sad today', additional_kwargs={}, response_metadata={}),\n",
       " AIMessage(content='', additional_kwargs={'tool_calls': [{'id': 'sq1d4zd4k', 'function': {'arguments': '{}', 'name': 'cheer_up'}, 'type': 'function'}]}, response_metadata={'token_usage': {'completion_tokens': 11, 'prompt_tokens': 405, 'total_tokens': 416, 'completion_time': 0.010381237, 'prompt_time': 0.038161124, 'queue_time': 0.066654296, 'total_time': 0.048542361}, 'model_name': 'llama-3.3-70b-versatile', 'system_fingerprint': 'fp_2ddfbb0da0', 'service_tier': 'on_demand', 'finish_reason': 'tool_calls', 'logprobs': None}, id='run--f79482f9-43b7-415a-bff2-af06e7f2e0d9-0', tool_calls=[{'name': 'cheer_up', 'args': {}, 'id': 'sq1d4zd4k', 'type': 'tool_call'}], usage_metadata={'input_tokens': 405, 'output_tokens': 11, 'total_tokens': 416}),\n",
       " ToolMessage(content='Cheer up! Everything will be fine', name='cheer_up', tool_call_id='sq1d4zd4k'),\n",
       " HumanMessage(content='Thanks for the cheer up, I feel better now', additional_kwargs={}, response_metadata={}),\n",
       " AIMessage(content='', additional_kwargs={'tool_calls': [{'id': '7q8rvzd4s', 'function': {'arguments': '{}', 'name': 'happy'}, 'type': 'function'}]}, response_metadata={'token_usage': {'completion_tokens': 9, 'prompt_tokens': 449, 'total_tokens': 458, 'completion_time': 0.007661538, 'prompt_time': 0.055634702, 'queue_time': 0.046154057, 'total_time': 0.06329624}, 'model_name': 'llama-3.3-70b-versatile', 'system_fingerprint': 'fp_2ddfbb0da0', 'service_tier': 'on_demand', 'finish_reason': 'tool_calls', 'logprobs': None}, id='run--b93d8903-2e6f-478f-9e11-d1a59d26d121-0', tool_calls=[{'name': 'happy', 'args': {}, 'id': '7q8rvzd4s', 'type': 'tool_call'}], usage_metadata={'input_tokens': 449, 'output_tokens': 9, 'total_tokens': 458}),\n",
       " AIMessage(content='', additional_kwargs={'tool_calls': [{'id': '7q8rvzd4s', 'function': {'arguments': '{}', 'name': 'happy'}, 'type': 'function'}]}, response_metadata={'token_usage': {'completion_tokens': 9, 'prompt_tokens': 449, 'total_tokens': 458, 'completion_time': 0.007661538, 'prompt_time': 0.055634702, 'queue_time': 0.046154057, 'total_time': 0.06329624}, 'model_name': 'llama-3.3-70b-versatile', 'system_fingerprint': 'fp_2ddfbb0da0', 'service_tier': 'on_demand', 'finish_reason': 'tool_calls', 'logprobs': None}, id='run--b93d8903-2e6f-478f-9e11-d1a59d26d121-0', tool_calls=[{'name': 'happy', 'args': {}, 'id': '7q8rvzd4s', 'type': 'tool_call'}], usage_metadata={'input_tokens': 449, 'output_tokens': 9, 'total_tokens': 458})]"
      ]
     },
     "execution_count": 124,
     "metadata": {},
     "output_type": "execute_result"
    }
   ],
   "source": [
    "chat_history.append(response)\n",
    "chat_history"
   ]
  },
  {
   "cell_type": "code",
   "execution_count": 125,
   "id": "d4a1f598",
   "metadata": {},
   "outputs": [
    {
     "data": {
      "text/plain": [
       "[HumanMessage(content='World is such a sad place', additional_kwargs={}, response_metadata={}),\n",
       " AIMessage(content='', additional_kwargs={'tool_calls': [{'id': 'hmaqe6q3y', 'function': {'arguments': 'null', 'name': 'sad'}, 'type': 'function'}]}, response_metadata={'token_usage': {'completion_tokens': 8, 'prompt_tokens': 373, 'total_tokens': 381, 'completion_time': 0.009831119, 'prompt_time': 0.036869363, 'queue_time': 0.046143047, 'total_time': 0.046700482}, 'model_name': 'llama-3.3-70b-versatile', 'system_fingerprint': 'fp_2ddfbb0da0', 'service_tier': 'on_demand', 'finish_reason': 'tool_calls', 'logprobs': None}, id='run--5bcc5669-9b9e-484c-84e9-577af5a7897a-0', tool_calls=[{'name': 'sad', 'args': {}, 'id': 'hmaqe6q3y', 'type': 'tool_call'}], usage_metadata={'input_tokens': 373, 'output_tokens': 8, 'total_tokens': 381}),\n",
       " ToolMessage(content='I am sad', name='sad', tool_call_id='hmaqe6q3y'),\n",
       " HumanMessage(content='I am extremely sad today', additional_kwargs={}, response_metadata={}),\n",
       " AIMessage(content='', additional_kwargs={'tool_calls': [{'id': 'sq1d4zd4k', 'function': {'arguments': '{}', 'name': 'cheer_up'}, 'type': 'function'}]}, response_metadata={'token_usage': {'completion_tokens': 11, 'prompt_tokens': 405, 'total_tokens': 416, 'completion_time': 0.010381237, 'prompt_time': 0.038161124, 'queue_time': 0.066654296, 'total_time': 0.048542361}, 'model_name': 'llama-3.3-70b-versatile', 'system_fingerprint': 'fp_2ddfbb0da0', 'service_tier': 'on_demand', 'finish_reason': 'tool_calls', 'logprobs': None}, id='run--f79482f9-43b7-415a-bff2-af06e7f2e0d9-0', tool_calls=[{'name': 'cheer_up', 'args': {}, 'id': 'sq1d4zd4k', 'type': 'tool_call'}], usage_metadata={'input_tokens': 405, 'output_tokens': 11, 'total_tokens': 416}),\n",
       " ToolMessage(content='Cheer up! Everything will be fine', name='cheer_up', tool_call_id='sq1d4zd4k'),\n",
       " HumanMessage(content='Thanks for the cheer up, I feel better now', additional_kwargs={}, response_metadata={}),\n",
       " AIMessage(content='', additional_kwargs={'tool_calls': [{'id': '7q8rvzd4s', 'function': {'arguments': '{}', 'name': 'happy'}, 'type': 'function'}]}, response_metadata={'token_usage': {'completion_tokens': 9, 'prompt_tokens': 449, 'total_tokens': 458, 'completion_time': 0.007661538, 'prompt_time': 0.055634702, 'queue_time': 0.046154057, 'total_time': 0.06329624}, 'model_name': 'llama-3.3-70b-versatile', 'system_fingerprint': 'fp_2ddfbb0da0', 'service_tier': 'on_demand', 'finish_reason': 'tool_calls', 'logprobs': None}, id='run--b93d8903-2e6f-478f-9e11-d1a59d26d121-0', tool_calls=[{'name': 'happy', 'args': {}, 'id': '7q8rvzd4s', 'type': 'tool_call'}], usage_metadata={'input_tokens': 449, 'output_tokens': 9, 'total_tokens': 458}),\n",
       " AIMessage(content='', additional_kwargs={'tool_calls': [{'id': '7q8rvzd4s', 'function': {'arguments': '{}', 'name': 'happy'}, 'type': 'function'}]}, response_metadata={'token_usage': {'completion_tokens': 9, 'prompt_tokens': 449, 'total_tokens': 458, 'completion_time': 0.007661538, 'prompt_time': 0.055634702, 'queue_time': 0.046154057, 'total_time': 0.06329624}, 'model_name': 'llama-3.3-70b-versatile', 'system_fingerprint': 'fp_2ddfbb0da0', 'service_tier': 'on_demand', 'finish_reason': 'tool_calls', 'logprobs': None}, id='run--b93d8903-2e6f-478f-9e11-d1a59d26d121-0', tool_calls=[{'name': 'happy', 'args': {}, 'id': '7q8rvzd4s', 'type': 'tool_call'}], usage_metadata={'input_tokens': 449, 'output_tokens': 9, 'total_tokens': 458}),\n",
       " ToolMessage(content='I am happy', name='happy', tool_call_id='7q8rvzd4s')]"
      ]
     },
     "execution_count": 125,
     "metadata": {},
     "output_type": "execute_result"
    }
   ],
   "source": [
    "# Execute the tool, append the response\n",
    "chat_history.append(tools_dict[response.tool_calls[0][\"name\"]].invoke(response.tool_calls[0]))\n",
    "chat_history"
   ]
  },
  {
   "cell_type": "code",
   "execution_count": 127,
   "id": "8658bb4e",
   "metadata": {},
   "outputs": [
    {
     "data": {
      "text/plain": [
       "[HumanMessage(content='World is such a sad place', additional_kwargs={}, response_metadata={}),\n",
       " AIMessage(content='', additional_kwargs={'tool_calls': [{'id': 'hmaqe6q3y', 'function': {'arguments': 'null', 'name': 'sad'}, 'type': 'function'}]}, response_metadata={'token_usage': {'completion_tokens': 8, 'prompt_tokens': 373, 'total_tokens': 381, 'completion_time': 0.009831119, 'prompt_time': 0.036869363, 'queue_time': 0.046143047, 'total_time': 0.046700482}, 'model_name': 'llama-3.3-70b-versatile', 'system_fingerprint': 'fp_2ddfbb0da0', 'service_tier': 'on_demand', 'finish_reason': 'tool_calls', 'logprobs': None}, id='run--5bcc5669-9b9e-484c-84e9-577af5a7897a-0', tool_calls=[{'name': 'sad', 'args': {}, 'id': 'hmaqe6q3y', 'type': 'tool_call'}], usage_metadata={'input_tokens': 373, 'output_tokens': 8, 'total_tokens': 381}),\n",
       " ToolMessage(content='I am sad', name='sad', tool_call_id='hmaqe6q3y'),\n",
       " HumanMessage(content='I am extremely sad today', additional_kwargs={}, response_metadata={}),\n",
       " AIMessage(content='', additional_kwargs={'tool_calls': [{'id': 'sq1d4zd4k', 'function': {'arguments': '{}', 'name': 'cheer_up'}, 'type': 'function'}]}, response_metadata={'token_usage': {'completion_tokens': 11, 'prompt_tokens': 405, 'total_tokens': 416, 'completion_time': 0.010381237, 'prompt_time': 0.038161124, 'queue_time': 0.066654296, 'total_time': 0.048542361}, 'model_name': 'llama-3.3-70b-versatile', 'system_fingerprint': 'fp_2ddfbb0da0', 'service_tier': 'on_demand', 'finish_reason': 'tool_calls', 'logprobs': None}, id='run--f79482f9-43b7-415a-bff2-af06e7f2e0d9-0', tool_calls=[{'name': 'cheer_up', 'args': {}, 'id': 'sq1d4zd4k', 'type': 'tool_call'}], usage_metadata={'input_tokens': 405, 'output_tokens': 11, 'total_tokens': 416}),\n",
       " ToolMessage(content='Cheer up! Everything will be fine', name='cheer_up', tool_call_id='sq1d4zd4k'),\n",
       " HumanMessage(content='Thanks for the cheer up, I feel better now', additional_kwargs={}, response_metadata={}),\n",
       " AIMessage(content='', additional_kwargs={'tool_calls': [{'id': '7q8rvzd4s', 'function': {'arguments': '{}', 'name': 'happy'}, 'type': 'function'}]}, response_metadata={'token_usage': {'completion_tokens': 9, 'prompt_tokens': 449, 'total_tokens': 458, 'completion_time': 0.007661538, 'prompt_time': 0.055634702, 'queue_time': 0.046154057, 'total_time': 0.06329624}, 'model_name': 'llama-3.3-70b-versatile', 'system_fingerprint': 'fp_2ddfbb0da0', 'service_tier': 'on_demand', 'finish_reason': 'tool_calls', 'logprobs': None}, id='run--b93d8903-2e6f-478f-9e11-d1a59d26d121-0', tool_calls=[{'name': 'happy', 'args': {}, 'id': '7q8rvzd4s', 'type': 'tool_call'}], usage_metadata={'input_tokens': 449, 'output_tokens': 9, 'total_tokens': 458}),\n",
       " AIMessage(content='', additional_kwargs={'tool_calls': [{'id': '7q8rvzd4s', 'function': {'arguments': '{}', 'name': 'happy'}, 'type': 'function'}]}, response_metadata={'token_usage': {'completion_tokens': 9, 'prompt_tokens': 449, 'total_tokens': 458, 'completion_time': 0.007661538, 'prompt_time': 0.055634702, 'queue_time': 0.046154057, 'total_time': 0.06329624}, 'model_name': 'llama-3.3-70b-versatile', 'system_fingerprint': 'fp_2ddfbb0da0', 'service_tier': 'on_demand', 'finish_reason': 'tool_calls', 'logprobs': None}, id='run--b93d8903-2e6f-478f-9e11-d1a59d26d121-0', tool_calls=[{'name': 'happy', 'args': {}, 'id': '7q8rvzd4s', 'type': 'tool_call'}], usage_metadata={'input_tokens': 449, 'output_tokens': 9, 'total_tokens': 458}),\n",
       " ToolMessage(content='I am happy', name='happy', tool_call_id='7q8rvzd4s'),\n",
       " HumanMessage(content='What do you think about the world now?', additional_kwargs={}, response_metadata={}),\n",
       " AIMessage(content='', additional_kwargs={'tool_calls': [{'id': 'pk9rq8nym', 'function': {'arguments': '{}', 'name': 'happy'}, 'type': 'function'}]}, response_metadata={'token_usage': {'completion_tokens': 9, 'prompt_tokens': 498, 'total_tokens': 507, 'completion_time': 0.008152647, 'prompt_time': 0.051933965, 'queue_time': 0.047088185, 'total_time': 0.060086612}, 'model_name': 'llama-3.3-70b-versatile', 'system_fingerprint': 'fp_2ddfbb0da0', 'service_tier': 'on_demand', 'finish_reason': 'tool_calls', 'logprobs': None}, id='run--ccf8d2b8-e2b0-4ba0-9fcf-1bbf7e88e9ad-0', tool_calls=[{'name': 'happy', 'args': {}, 'id': 'pk9rq8nym', 'type': 'tool_call'}], usage_metadata={'input_tokens': 498, 'output_tokens': 9, 'total_tokens': 507}),\n",
       " HumanMessage(content=\"What do you think about the world now? Don't call any tool, just respond.\", additional_kwargs={}, response_metadata={}),\n",
       " AIMessage(content=\"I think the world is a complex and multifaceted place, full of both positive and negative aspects. While there are certainly many challenges and sad things in the world, there are also countless examples of kindness, beauty, and joy. It's all about perspective and focus. By choosing to focus on the good and working to make a positive impact, we can create a brighter and more loving world for everyone.\", additional_kwargs={}, response_metadata={'token_usage': {'completion_tokens': 83, 'prompt_tokens': 534, 'total_tokens': 617, 'completion_time': 0.237011442, 'prompt_time': 0.047548164, 'queue_time': 0.053549596, 'total_time': 0.284559606}, 'model_name': 'llama-3.3-70b-versatile', 'system_fingerprint': 'fp_2ddfbb0da0', 'service_tier': 'on_demand', 'finish_reason': 'stop', 'logprobs': None}, id='run--dbfa191c-5775-4b51-b110-5cc0bc0fc28b-0', usage_metadata={'input_tokens': 534, 'output_tokens': 83, 'total_tokens': 617})]"
      ]
     },
     "execution_count": 127,
     "metadata": {},
     "output_type": "execute_result"
    }
   ],
   "source": [
    "# lets see, if the model remebers the context\n",
    "chat_history.append(HumanMessage(content=\"What do you think about the world now? Don't call any tool, just respond.\"))\n",
    "response = llm_with_tools.invoke(chat_history)\n",
    "chat_history.append(response)\n",
    "chat_history"
   ]
  },
  {
   "cell_type": "code",
   "execution_count": null,
   "id": "d1c1a2b3",
   "metadata": {},
   "outputs": [],
   "source": []
  }
 ],
 "metadata": {
  "kernelspec": {
   "display_name": "Langchain",
   "language": "python",
   "name": "python3"
  },
  "language_info": {
   "codemirror_mode": {
    "name": "ipython",
    "version": 3
   },
   "file_extension": ".py",
   "mimetype": "text/x-python",
   "name": "python",
   "nbconvert_exporter": "python",
   "pygments_lexer": "ipython3",
   "version": "3.9.23"
  }
 },
 "nbformat": 4,
 "nbformat_minor": 5
}
