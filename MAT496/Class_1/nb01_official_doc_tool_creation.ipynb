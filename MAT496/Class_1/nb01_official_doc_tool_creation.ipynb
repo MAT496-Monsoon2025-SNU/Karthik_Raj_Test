{
 "cells": [
  {
   "cell_type": "code",
   "execution_count": 1,
   "id": "8cf11c47",
   "metadata": {},
   "outputs": [
    {
     "data": {
      "text/plain": [
       "True"
      ]
     },
     "execution_count": 1,
     "metadata": {},
     "output_type": "execute_result"
    }
   ],
   "source": [
    "from dotenv import load_dotenv\n",
    "load_dotenv(override=True)"
   ]
  },
  {
   "cell_type": "markdown",
   "id": "cd9c5878",
   "metadata": {},
   "source": [
    "# Choose an LLM Model"
   ]
  },
  {
   "cell_type": "code",
   "execution_count": 2,
   "id": "f89a6d9b",
   "metadata": {},
   "outputs": [],
   "source": [
    "import getpass\n",
    "import os\n",
    "\n",
    "if not os.environ.get(\"GROQ_API_KEY\"):\n",
    "  os.environ[\"GROQ_API_KEY\"] = getpass.getpass(\"Enter API key for Groq: \")\n",
    "\n",
    "from langchain.chat_models import init_chat_model\n",
    "\n",
    "llm = init_chat_model(\"llama-3.3-70b-versatile\", model_provider=\"groq\")"
   ]
  },
  {
   "cell_type": "markdown",
   "id": "37126d86",
   "metadata": {},
   "source": [
    "# Create your tools"
   ]
  },
  {
   "cell_type": "code",
   "execution_count": 3,
   "id": "63524d6c",
   "metadata": {},
   "outputs": [
    {
     "name": "stdout",
     "output_type": "stream",
     "text": [
      "multiply\n",
      "Multiply two numbers.\n",
      "{'a': {'title': 'A', 'type': 'number'}, 'b': {'title': 'B', 'type': 'number'}}\n"
     ]
    }
   ],
   "source": [
    "from langchain_core.tools import tool\n",
    "\n",
    "\n",
    "@tool\n",
    "def multiply(a: float, b: float) -> float:\n",
    "    \"\"\"Multiply two numbers.\"\"\"\n",
    "    return a * b\n",
    "\n",
    "\n",
    "# Let's inspect some of the attributes associated with the tool.\n",
    "print(multiply.name)\n",
    "print(multiply.description)\n",
    "print(multiply.args)"
   ]
  },
  {
   "cell_type": "code",
   "execution_count": 9,
   "id": "a0403806",
   "metadata": {},
   "outputs": [
    {
     "name": "stdout",
     "output_type": "stream",
     "text": [
      "divide\n",
      "Divide two numbers.\n",
      "{'a': {'title': 'A', 'type': 'number'}, 'b': {'title': 'B', 'type': 'number'}}\n",
      "add\n",
      "Add two numbers.\n",
      "{'a': {'title': 'A', 'type': 'number'}, 'b': {'title': 'B', 'type': 'number'}}\n"
     ]
    }
   ],
   "source": [
    "@tool\n",
    "def divide(a: float, b: float) -> float:\n",
    "    \"\"\"Divide two numbers.\"\"\"\n",
    "    return a / b\n",
    "\n",
    "@tool\n",
    "def add(a: float, b: float) -> float:\n",
    "    \"\"\"Add two numbers.\"\"\"\n",
    "    return a + b\n",
    "\n",
    "print(divide.name)\n",
    "print(divide.description)\n",
    "print(divide.args)  \n",
    "\n",
    "print(add.name)\n",
    "print(add.description)\n",
    "print(add.args)    "
   ]
  },
  {
   "cell_type": "code",
   "execution_count": 4,
   "id": "97bf49be",
   "metadata": {},
   "outputs": [],
   "source": [
    "tools_list = [multiply]\n",
    "tools_dict = {t.name: t for t in tools_list} # comes in handy at the time of invokation"
   ]
  },
  {
   "cell_type": "code",
   "execution_count": 10,
   "id": "0aa70465",
   "metadata": {},
   "outputs": [],
   "source": [
    "tools_list.append(divide)\n",
    "tools_list.append(add)\n",
    "tools_dict = {t.name: t for t in tools_list} # comes in handy at the time of invokation"
   ]
  },
  {
   "cell_type": "markdown",
   "id": "1a822e2c",
   "metadata": {},
   "source": [
    "# Bind tools with LLMs"
   ]
  },
  {
   "cell_type": "code",
   "execution_count": 15,
   "id": "55e761b0",
   "metadata": {},
   "outputs": [],
   "source": [
    "# we create a tool calling Agent by binding a list of tools to the llm\n",
    "\n",
    "llm_with_tools = llm.bind_tools(tools_list)"
   ]
  },
  {
   "cell_type": "code",
   "execution_count": 6,
   "id": "95a81370",
   "metadata": {},
   "outputs": [
    {
     "data": {
      "text/plain": [
       "AIMessage(content='', additional_kwargs={'tool_calls': [{'id': 'fyw8wfm61', 'function': {'arguments': '{\"a\":10,\"b\":40}', 'name': 'multiply'}, 'type': 'function'}]}, response_metadata={'token_usage': {'completion_tokens': 16, 'prompt_tokens': 220, 'total_tokens': 236, 'completion_time': 0.033715171, 'prompt_time': 0.031424749, 'queue_time': 0.046933091, 'total_time': 0.06513992}, 'model_name': 'llama-3.3-70b-versatile', 'system_fingerprint': 'fp_3f3b593e33', 'service_tier': 'on_demand', 'finish_reason': 'tool_calls', 'logprobs': None}, id='run--8dc58a59-7ff0-4519-86bc-5316f3f7e4cc-0', tool_calls=[{'name': 'multiply', 'args': {'a': 10, 'b': 40}, 'id': 'fyw8wfm61', 'type': 'tool_call'}], usage_metadata={'input_tokens': 220, 'output_tokens': 16, 'total_tokens': 236})"
      ]
     },
     "execution_count": 6,
     "metadata": {},
     "output_type": "execute_result"
    }
   ],
   "source": [
    "\n",
    "response = llm_with_tools.invoke(\"What is 10 times 40?\")\n",
    "\n",
    "response"
   ]
  },
  {
   "cell_type": "code",
   "execution_count": 44,
   "id": "3dc894f5",
   "metadata": {},
   "outputs": [
    {
     "data": {
      "text/plain": [
       "AIMessage(content='', additional_kwargs={'tool_calls': [{'id': '9tmmc92y5', 'function': {'arguments': '{\"a\":20,\"b\":20}', 'name': 'multiply'}, 'type': 'function'}]}, response_metadata={'token_usage': {'completion_tokens': 19, 'prompt_tokens': 322, 'total_tokens': 341, 'completion_time': 0.050256413, 'prompt_time': 0.031179353, 'queue_time': 0.046539077, 'total_time': 0.081435766}, 'model_name': 'llama-3.3-70b-versatile', 'system_fingerprint': 'fp_3f3b593e33', 'service_tier': 'on_demand', 'finish_reason': 'tool_calls', 'logprobs': None}, id='run--259025f5-a0be-4065-9992-6474a3603999-0', tool_calls=[{'name': 'multiply', 'args': {'a': 20, 'b': 20}, 'id': '9tmmc92y5', 'type': 'tool_call'}], usage_metadata={'input_tokens': 322, 'output_tokens': 19, 'total_tokens': 341})"
      ]
     },
     "execution_count": 44,
     "metadata": {},
     "output_type": "execute_result"
    }
   ],
   "source": [
    "response = llm_with_tools.invoke(\"What is 20 squared?\")\n",
    "\n",
    "response"
   ]
  },
  {
   "cell_type": "code",
   "execution_count": 33,
   "id": "b60d8aeb",
   "metadata": {},
   "outputs": [
    {
     "data": {
      "text/plain": [
       "AIMessage(content='<function=multiply({\"a\": 100, \"b\": <function=divide({\"a\": 20, \"b\": 5})})</function>', additional_kwargs={}, response_metadata={'token_usage': {'completion_tokens': 34, 'prompt_tokens': 328, 'total_tokens': 362, 'completion_time': 0.0983404, 'prompt_time': 0.037808391, 'queue_time': 0.051739169, 'total_time': 0.136148791}, 'model_name': 'llama-3.3-70b-versatile', 'system_fingerprint': 'fp_3f3b593e33', 'service_tier': 'on_demand', 'finish_reason': 'stop', 'logprobs': None}, id='run--8b41535c-ebe6-4694-8c3e-6917f1f2d879-0', usage_metadata={'input_tokens': 328, 'output_tokens': 34, 'total_tokens': 362})"
      ]
     },
     "execution_count": 33,
     "metadata": {},
     "output_type": "execute_result"
    }
   ],
   "source": [
    "# Exercise: Modify the prompt in various ways\n",
    "\n",
    "response = llm_with_tools.invoke(\"What is 20 divided by 5 times 100?\")\n",
    "\n",
    "response"
   ]
  },
  {
   "cell_type": "markdown",
   "id": "d0b0ea66",
   "metadata": {},
   "source": [
    "# Tool Invokation\n",
    "\n",
    "Tool calling is NOT tool execution"
   ]
  },
  {
   "cell_type": "code",
   "execution_count": 45,
   "id": "62e9c3f8",
   "metadata": {},
   "outputs": [
    {
     "data": {
      "text/plain": [
       "[{'name': 'multiply',\n",
       "  'args': {'a': 20, 'b': 20},\n",
       "  'id': '9tmmc92y5',\n",
       "  'type': 'tool_call'}]"
      ]
     },
     "execution_count": 45,
     "metadata": {},
     "output_type": "execute_result"
    }
   ],
   "source": [
    "response.tool_calls"
   ]
  },
  {
   "cell_type": "code",
   "execution_count": 46,
   "id": "6fc5869a",
   "metadata": {},
   "outputs": [
    {
     "data": {
      "text/plain": [
       "ToolMessage(content='400.0', name='multiply', tool_call_id='9tmmc92y5')"
      ]
     },
     "execution_count": 46,
     "metadata": {},
     "output_type": "execute_result"
    }
   ],
   "source": [
    "tools_dict[response.tool_calls[0][\"name\"]].invoke(response.tool_calls[0])"
   ]
  },
  {
   "cell_type": "code",
   "execution_count": null,
   "id": "95042e48",
   "metadata": {},
   "outputs": [],
   "source": []
  }
 ],
 "metadata": {
  "kernelspec": {
   "display_name": "Langchain",
   "language": "python",
   "name": "python3"
  },
  "language_info": {
   "codemirror_mode": {
    "name": "ipython",
    "version": 3
   },
   "file_extension": ".py",
   "mimetype": "text/x-python",
   "name": "python",
   "nbconvert_exporter": "python",
   "pygments_lexer": "ipython3",
   "version": "3.9.23"
  }
 },
 "nbformat": 4,
 "nbformat_minor": 5
}
