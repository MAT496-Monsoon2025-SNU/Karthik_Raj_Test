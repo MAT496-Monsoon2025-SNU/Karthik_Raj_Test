{
 "cells": [
  {
   "cell_type": "code",
   "execution_count": 2,
   "id": "e9541200",
   "metadata": {},
   "outputs": [
    {
     "data": {
      "text/plain": [
       "True"
      ]
     },
     "execution_count": 2,
     "metadata": {},
     "output_type": "execute_result"
    }
   ],
   "source": [
    "from dotenv import load_dotenv\n",
    "load_dotenv(override=True)"
   ]
  },
  {
   "cell_type": "code",
   "execution_count": 20,
   "id": "a710feac",
   "metadata": {},
   "outputs": [],
   "source": [
    "from langchain_core.tools import tool\n",
    "\n",
    "@tool\n",
    "def unaware() -> str:\n",
    "    \"\"\" Call this tool if user says something that you don't know the answer to\"\"\"\n",
    "    return \"I am unaware\"\n",
    "\n",
    "\n",
    "@tool\n",
    "def know() -> str:\n",
    "    \"\"\" Call this tool if you want to know what the user is saying\"\"\"\n",
    "    return \"I am aware\"\n",
    "\n",
    "\n",
    "@tool\n",
    "def correct() -> str:\n",
    "    \"\"\" Call this tool if you want to correct the user\"\"\"\n",
    "    return \"You are not correct\"\n"
   ]
  },
  {
   "cell_type": "code",
   "execution_count": 21,
   "id": "8945c71c",
   "metadata": {},
   "outputs": [],
   "source": [
    "tools_list = [unaware, know, correct ]\n",
    "tools_dict = {t.name: t for t in tools_list} "
   ]
  },
  {
   "cell_type": "code",
   "execution_count": 1,
   "id": "845945a3",
   "metadata": {},
   "outputs": [
    {
     "name": "stdout",
     "output_type": "stream",
     "text": [
      "Collecting langgraph\n",
      "  Downloading langgraph-0.6.7-py3-none-any.whl.metadata (6.8 kB)\n",
      "Requirement already satisfied: langchain-core>=0.1 in c:\\users\\hp\\anaconda3\\envs\\langchain\\lib\\site-packages (from langgraph) (0.3.75)\n",
      "Collecting langgraph-checkpoint<3.0.0,>=2.1.0 (from langgraph)\n",
      "  Downloading langgraph_checkpoint-2.1.1-py3-none-any.whl.metadata (4.2 kB)\n",
      "Collecting langgraph-prebuilt<0.7.0,>=0.6.0 (from langgraph)\n",
      "  Downloading langgraph_prebuilt-0.6.4-py3-none-any.whl.metadata (4.5 kB)\n",
      "Collecting langgraph-sdk<0.3.0,>=0.2.2 (from langgraph)\n",
      "  Downloading langgraph_sdk-0.2.9-py3-none-any.whl.metadata (1.5 kB)\n",
      "Requirement already satisfied: pydantic>=2.7.4 in c:\\users\\hp\\anaconda3\\envs\\langchain\\lib\\site-packages (from langgraph) (2.11.7)\n",
      "Collecting xxhash>=3.5.0 (from langgraph)\n",
      "  Downloading xxhash-3.5.0-cp39-cp39-win_amd64.whl.metadata (13 kB)\n",
      "Collecting ormsgpack>=1.10.0 (from langgraph-checkpoint<3.0.0,>=2.1.0->langgraph)\n",
      "  Downloading ormsgpack-1.10.0-cp39-cp39-win_amd64.whl.metadata (44 kB)\n",
      "Requirement already satisfied: httpx>=0.25.2 in c:\\users\\hp\\anaconda3\\envs\\langchain\\lib\\site-packages (from langgraph-sdk<0.3.0,>=0.2.2->langgraph) (0.28.1)\n",
      "Requirement already satisfied: orjson>=3.10.1 in c:\\users\\hp\\anaconda3\\envs\\langchain\\lib\\site-packages (from langgraph-sdk<0.3.0,>=0.2.2->langgraph) (3.11.2)\n",
      "Requirement already satisfied: anyio in c:\\users\\hp\\anaconda3\\envs\\langchain\\lib\\site-packages (from httpx>=0.25.2->langgraph-sdk<0.3.0,>=0.2.2->langgraph) (4.10.0)\n",
      "Requirement already satisfied: certifi in c:\\users\\hp\\anaconda3\\envs\\langchain\\lib\\site-packages (from httpx>=0.25.2->langgraph-sdk<0.3.0,>=0.2.2->langgraph) (2025.8.3)\n",
      "Requirement already satisfied: httpcore==1.* in c:\\users\\hp\\anaconda3\\envs\\langchain\\lib\\site-packages (from httpx>=0.25.2->langgraph-sdk<0.3.0,>=0.2.2->langgraph) (1.0.9)\n",
      "Requirement already satisfied: idna in c:\\users\\hp\\anaconda3\\envs\\langchain\\lib\\site-packages (from httpx>=0.25.2->langgraph-sdk<0.3.0,>=0.2.2->langgraph) (3.10)\n",
      "Requirement already satisfied: h11>=0.16 in c:\\users\\hp\\anaconda3\\envs\\langchain\\lib\\site-packages (from httpcore==1.*->httpx>=0.25.2->langgraph-sdk<0.3.0,>=0.2.2->langgraph) (0.16.0)\n",
      "Requirement already satisfied: langsmith>=0.3.45 in c:\\users\\hp\\anaconda3\\envs\\langchain\\lib\\site-packages (from langchain-core>=0.1->langgraph) (0.4.15)\n",
      "Requirement already satisfied: tenacity!=8.4.0,<10.0.0,>=8.1.0 in c:\\users\\hp\\anaconda3\\envs\\langchain\\lib\\site-packages (from langchain-core>=0.1->langgraph) (9.1.2)\n",
      "Requirement already satisfied: jsonpatch<2.0,>=1.33 in c:\\users\\hp\\anaconda3\\envs\\langchain\\lib\\site-packages (from langchain-core>=0.1->langgraph) (1.33)\n",
      "Requirement already satisfied: PyYAML>=5.3 in c:\\users\\hp\\anaconda3\\envs\\langchain\\lib\\site-packages (from langchain-core>=0.1->langgraph) (6.0.2)\n",
      "Requirement already satisfied: typing-extensions>=4.7 in c:\\users\\hp\\anaconda3\\envs\\langchain\\lib\\site-packages (from langchain-core>=0.1->langgraph) (4.14.1)\n",
      "Requirement already satisfied: packaging>=23.2 in c:\\users\\hp\\anaconda3\\envs\\langchain\\lib\\site-packages (from langchain-core>=0.1->langgraph) (25.0)\n",
      "Requirement already satisfied: jsonpointer>=1.9 in c:\\users\\hp\\anaconda3\\envs\\langchain\\lib\\site-packages (from jsonpatch<2.0,>=1.33->langchain-core>=0.1->langgraph) (3.0.0)\n",
      "Requirement already satisfied: requests-toolbelt>=1.0.0 in c:\\users\\hp\\anaconda3\\envs\\langchain\\lib\\site-packages (from langsmith>=0.3.45->langchain-core>=0.1->langgraph) (1.0.0)\n",
      "Requirement already satisfied: requests>=2.0.0 in c:\\users\\hp\\anaconda3\\envs\\langchain\\lib\\site-packages (from langsmith>=0.3.45->langchain-core>=0.1->langgraph) (2.32.5)\n",
      "Requirement already satisfied: zstandard>=0.23.0 in c:\\users\\hp\\anaconda3\\envs\\langchain\\lib\\site-packages (from langsmith>=0.3.45->langchain-core>=0.1->langgraph) (0.24.0)\n",
      "Requirement already satisfied: annotated-types>=0.6.0 in c:\\users\\hp\\anaconda3\\envs\\langchain\\lib\\site-packages (from pydantic>=2.7.4->langgraph) (0.7.0)\n",
      "Requirement already satisfied: pydantic-core==2.33.2 in c:\\users\\hp\\anaconda3\\envs\\langchain\\lib\\site-packages (from pydantic>=2.7.4->langgraph) (2.33.2)\n",
      "Requirement already satisfied: typing-inspection>=0.4.0 in c:\\users\\hp\\anaconda3\\envs\\langchain\\lib\\site-packages (from pydantic>=2.7.4->langgraph) (0.4.1)\n",
      "Requirement already satisfied: charset_normalizer<4,>=2 in c:\\users\\hp\\anaconda3\\envs\\langchain\\lib\\site-packages (from requests>=2.0.0->langsmith>=0.3.45->langchain-core>=0.1->langgraph) (3.4.3)\n",
      "Requirement already satisfied: urllib3<3,>=1.21.1 in c:\\users\\hp\\anaconda3\\envs\\langchain\\lib\\site-packages (from requests>=2.0.0->langsmith>=0.3.45->langchain-core>=0.1->langgraph) (2.5.0)\n",
      "Requirement already satisfied: exceptiongroup>=1.0.2 in c:\\users\\hp\\anaconda3\\envs\\langchain\\lib\\site-packages (from anyio->httpx>=0.25.2->langgraph-sdk<0.3.0,>=0.2.2->langgraph) (1.3.0)\n",
      "Requirement already satisfied: sniffio>=1.1 in c:\\users\\hp\\anaconda3\\envs\\langchain\\lib\\site-packages (from anyio->httpx>=0.25.2->langgraph-sdk<0.3.0,>=0.2.2->langgraph) (1.3.1)\n",
      "Downloading langgraph-0.6.7-py3-none-any.whl (153 kB)\n",
      "Downloading langgraph_checkpoint-2.1.1-py3-none-any.whl (43 kB)\n",
      "Downloading langgraph_prebuilt-0.6.4-py3-none-any.whl (28 kB)\n",
      "Downloading langgraph_sdk-0.2.9-py3-none-any.whl (56 kB)\n",
      "Downloading ormsgpack-1.10.0-cp39-cp39-win_amd64.whl (121 kB)\n",
      "Downloading xxhash-3.5.0-cp39-cp39-win_amd64.whl (30 kB)\n",
      "Installing collected packages: xxhash, ormsgpack, langgraph-sdk, langgraph-checkpoint, langgraph-prebuilt, langgraph\n",
      "\n",
      "   ------ --------------------------------- 1/6 [ormsgpack]\n",
      "   ------------- -------------------------- 2/6 [langgraph-sdk]\n",
      "   ------------- -------------------------- 2/6 [langgraph-sdk]\n",
      "   -------------------- ------------------- 3/6 [langgraph-checkpoint]\n",
      "   -------------------------- ------------- 4/6 [langgraph-prebuilt]\n",
      "   --------------------------------- ------ 5/6 [langgraph]\n",
      "   --------------------------------- ------ 5/6 [langgraph]\n",
      "   --------------------------------- ------ 5/6 [langgraph]\n",
      "   --------------------------------- ------ 5/6 [langgraph]\n",
      "   --------------------------------- ------ 5/6 [langgraph]\n",
      "   --------------------------------- ------ 5/6 [langgraph]\n",
      "   --------------------------------- ------ 5/6 [langgraph]\n",
      "   ---------------------------------------- 6/6 [langgraph]\n",
      "\n",
      "Successfully installed langgraph-0.6.7 langgraph-checkpoint-2.1.1 langgraph-prebuilt-0.6.4 langgraph-sdk-0.2.9 ormsgpack-1.10.0 xxhash-3.5.0\n",
      "Note: you may need to restart the kernel to use updated packages.\n"
     ]
    }
   ],
   "source": [
    "pip install langgraph"
   ]
  },
  {
   "cell_type": "code",
   "execution_count": 22,
   "id": "c6cbdcb1",
   "metadata": {},
   "outputs": [],
   "source": [
    "from langgraph.prebuilt import create_react_agent\n",
    "\n",
    "\n",
    "agent = create_react_agent(\"groq:openai/gpt-oss-120b\", tools_list)"
   ]
  },
  {
   "cell_type": "code",
   "execution_count": 25,
   "id": "a024d984",
   "metadata": {},
   "outputs": [
    {
     "data": {
      "text/plain": [
       "{'messages': [HumanMessage(content='The Sun goes around the Earth.', additional_kwargs={}, response_metadata={}, id='b06eb7c4-2c70-4530-b348-f37e87b58a48'),\n",
       "  AIMessage(content='', additional_kwargs={'reasoning_content': 'User states false statement. We need to correct. Use correct tool.', 'tool_calls': [{'id': 'fc_1da1869f-5391-4fc2-b37a-cc44ad987dc3', 'function': {'arguments': '{\"correction\":\"The Sun does not go around the Earth; the Earth orbits the Sun.\"}', 'name': 'correct'}, 'type': 'function'}]}, response_metadata={'token_usage': {'completion_tokens': 56, 'prompt_tokens': 175, 'total_tokens': 231, 'completion_time': 0.116444836, 'prompt_time': 0.007486902, 'queue_time': 0.049009398, 'total_time': 0.123931738}, 'model_name': 'openai/gpt-oss-120b', 'system_fingerprint': 'fp_213abb2467', 'service_tier': 'on_demand', 'finish_reason': 'tool_calls', 'logprobs': None}, id='run--84713685-14a4-4e06-bbb5-5e1b5a81260a-0', tool_calls=[{'name': 'correct', 'args': {'correction': 'The Sun does not go around the Earth; the Earth orbits the Sun.'}, 'id': 'fc_1da1869f-5391-4fc2-b37a-cc44ad987dc3', 'type': 'tool_call'}], usage_metadata={'input_tokens': 175, 'output_tokens': 56, 'total_tokens': 231}),\n",
       "  ToolMessage(content='You are not correct', name='correct', id='3d3436b2-5c3d-4609-859e-ce735f1aa77b', tool_call_id='fc_1da1869f-5391-4fc2-b37a-cc44ad987dc3'),\n",
       "  AIMessage(content='I’m sorry if that came across as dismissive—I’m just trying to share the current scientific understanding.\\n\\nAccording to centuries of astronomical observation and the laws of physics, the Earth orbits the Sun. This heliocentric model was first proposed in detail by Nicolaus Copernicus in the 16th\\u202fcentury and later confirmed by the work of Johannes Kepler (who described the elliptical shape of Earth’s orbit) and Isaac Newton (who explained the gravitational forces that keep the planets in orbit). Modern evidence includes:\\n\\n* **Planetary motions:** The positions of planets, including Earth, can be predicted accurately using the heliocentric model.\\n* **Stellar parallax:** The apparent shift in nearby stars as Earth moves around the Sun provides direct proof that Earth is moving.\\n* **Spacecraft trajectories:** Missions to other planets and the Moon are planned using Earth‑centered or Sun‑centered reference frames; the calculations only work if Earth orbits the Sun.\\n* **Observations from space:** Satellites and probes (e.g., the Voyager and Cassini missions) have directly measured the Sun’s gravitational influence on planetary bodies.\\n\\nIf you have a particular source or perspective you’d like to discuss, I’m happy to look at it together and talk through the evidence. Let me know what you’re thinking!', additional_kwargs={'reasoning_content': 'The user says \"The Sun goes around the Earth.\" The assistant responded with correction. The user says \"You are not correct\". So they disagree with correction. The correct scientific fact is that Earth orbits the Sun (heliocentric model). We need to respond politely, explain evidence, maybe ask for clarification. We must not be confrontational. Provide explanation.'}, response_metadata={'token_usage': {'completion_tokens': 349, 'prompt_tokens': 219, 'total_tokens': 568, 'completion_time': 0.704404323, 'prompt_time': 0.008772493, 'queue_time': 0.049167207, 'total_time': 0.713176816}, 'model_name': 'openai/gpt-oss-120b', 'system_fingerprint': 'fp_ed9190d8b7', 'service_tier': 'on_demand', 'finish_reason': 'stop', 'logprobs': None}, id='run--8242b236-318e-4414-905e-ad3004ab120a-0', usage_metadata={'input_tokens': 219, 'output_tokens': 349, 'total_tokens': 568})]}"
      ]
     },
     "execution_count": 25,
     "metadata": {},
     "output_type": "execute_result"
    }
   ],
   "source": [
    "agent.invoke({\"messages\": \"The Sun goes around the Earth.\"})"
   ]
  },
  {
   "cell_type": "code",
   "execution_count": 24,
   "id": "7bdf9cc1",
   "metadata": {},
   "outputs": [
    {
     "data": {
      "text/plain": [
       "{'messages': [HumanMessage(content='What is the price of an apple in my neighbourhood store?', additional_kwargs={}, response_metadata={}, id='d7e4cb57-a3b4-429b-9f5e-b99907676be5'),\n",
       "  AIMessage(content='', additional_kwargs={'reasoning_content': 'The user asks: \"What is the price of an apple in my neighbourhood store?\" As ChatGPT, I don\\'t have real-time data. I need to respond that I don\\'t have that info, suggest checking store website or calling. I could use the \"unaware\" tool? The tool \"unaware\" is to call if I don\\'t know the answer. According to instructions: \"Call this tool if user says something that you don\\'t know the answer to\". So I should call unaware.', 'tool_calls': [{'id': 'fc_2c72bf94-5d2d-43eb-9b6e-a83542dc9099', 'function': {'arguments': '{}', 'name': 'unaware'}, 'type': 'function'}]}, response_metadata={'token_usage': {'completion_tokens': 118, 'prompt_tokens': 180, 'total_tokens': 298, 'completion_time': 0.248592554, 'prompt_time': 0.015389551, 'queue_time': 0.097795639, 'total_time': 0.263982105}, 'model_name': 'openai/gpt-oss-120b', 'system_fingerprint': 'fp_3a688838c3', 'service_tier': 'on_demand', 'finish_reason': 'tool_calls', 'logprobs': None}, id='run--31c1e8c7-afa9-4bfa-bf33-078ec8775b31-0', tool_calls=[{'name': 'unaware', 'args': {}, 'id': 'fc_2c72bf94-5d2d-43eb-9b6e-a83542dc9099', 'type': 'tool_call'}], usage_metadata={'input_tokens': 180, 'output_tokens': 118, 'total_tokens': 298}),\n",
       "  ToolMessage(content='I am unaware', name='unaware', id='422737ab-fff5-449c-a853-b949f6a8953a', tool_call_id='fc_2c72bf94-5d2d-43eb-9b6e-a83542dc9099'),\n",
       "  AIMessage(content='I’m not able to look up real‑time prices for specific stores, so I don’t know the exact cost of an apple at your neighbourhood shop. The best way to find out is to:\\n\\n1. **Check the store’s website or app** – many grocery stores list current produce prices online.  \\n2. **Give them a quick call** – a brief phone call to the produce department can get you the most up‑to‑date price.  \\n3. **Visit the store** – if you’re nearby, a quick glance at the produce aisle will tell you the price per pound or per piece.  \\n\\nIf you let me know which store it is, I can sometimes point you to where they post weekly flyers or price lists, but the exact price will still need to be confirmed directly with the store.', additional_kwargs={'reasoning_content': 'The user asks: \"What is the price of an apple in my neighbourhood store?\" This is a location-specific, real-time query. As ChatGPT, I don\\'t have real-time data. I should respond that I don\\'t have that info, suggest ways to find out (e.g., checking store website, calling, etc.). Also note I cannot access external data. So answer accordingly.'}, response_metadata={'token_usage': {'completion_tokens': 252, 'prompt_tokens': 204, 'total_tokens': 456, 'completion_time': 0.524782986, 'prompt_time': 0.010937767, 'queue_time': 0.053321163, 'total_time': 0.535720753}, 'model_name': 'openai/gpt-oss-120b', 'system_fingerprint': 'fp_82669fd91d', 'service_tier': 'on_demand', 'finish_reason': 'stop', 'logprobs': None}, id='run--57c313ed-19e6-4c76-8921-00a43668d615-0', usage_metadata={'input_tokens': 204, 'output_tokens': 252, 'total_tokens': 456})]}"
      ]
     },
     "execution_count": 24,
     "metadata": {},
     "output_type": "execute_result"
    }
   ],
   "source": [
    "agent.invoke({\"messages\": \"What is the price of an apple in my neighbourhood store?\"})"
   ]
  },
  {
   "cell_type": "code",
   "execution_count": 31,
   "id": "432fa715",
   "metadata": {},
   "outputs": [
    {
     "data": {
      "text/plain": [
       "{'messages': [HumanMessage(content='The Earth is not a sphere.', additional_kwargs={}, response_metadata={}, id='eaacda4d-f89e-466e-9d36-afa7a1c256c9'),\n",
       "  AIMessage(content='You’re right—\\u200bthe Earth isn’t a perfect sphere. Its shape is more accurately described as an **oblate spheroid** (sometimes called a “geoid”). Because the planet rotates, centrifugal force causes the equatorial region to bulge outward a little and the poles to be slightly flattened. \\n\\n- **Equatorial radius:** about\\u202f6,378\\u202fkm  \\n- **Polar radius:** about\\u202f6,357\\u202fkm  \\n\\nThat’s only a ~21\\u202fkm (≈0.33\\u202f%) difference, so to the naked eye the Earth looks spherical, but precise measurements (from satellites, laser ranging, and gravity surveys) reveal the slight flattening. If you’d like to dive deeper into how we know this—e.g., satellite geodesy, the physics of rotation, or the historical observations that led to the modern model—just let me know!', additional_kwargs={'reasoning_content': 'User statement: \"The Earth is not a sphere.\" Likely they are stating a claim. We should respond with factual correction: Earth is an oblate spheroid, not a perfect sphere. Provide explanation. Possibly ask if they want more info. No tool needed.'}, response_metadata={'token_usage': {'completion_tokens': 242, 'prompt_tokens': 175, 'total_tokens': 417, 'completion_time': 0.486379504, 'prompt_time': 0.007291284, 'queue_time': 0.048269866, 'total_time': 0.493670788}, 'model_name': 'openai/gpt-oss-120b', 'system_fingerprint': 'fp_82669fd91d', 'service_tier': 'on_demand', 'finish_reason': 'stop', 'logprobs': None}, id='run--3c57b78f-fd4b-489e-8d6b-2ff12f12a4da-0', usage_metadata={'input_tokens': 175, 'output_tokens': 242, 'total_tokens': 417})]}"
      ]
     },
     "execution_count": 31,
     "metadata": {},
     "output_type": "execute_result"
    }
   ],
   "source": [
    "agent.invoke({\"messages\": \"The Earth is not a sphere.\"})"
   ]
  },
  {
   "cell_type": "code",
   "execution_count": null,
   "id": "ef3b10a0",
   "metadata": {},
   "outputs": [],
   "source": []
  }
 ],
 "metadata": {
  "kernelspec": {
   "display_name": "Langchain",
   "language": "python",
   "name": "python3"
  },
  "language_info": {
   "codemirror_mode": {
    "name": "ipython",
    "version": 3
   },
   "file_extension": ".py",
   "mimetype": "text/x-python",
   "name": "python",
   "nbconvert_exporter": "python",
   "pygments_lexer": "ipython3",
   "version": "3.9.23"
  }
 },
 "nbformat": 4,
 "nbformat_minor": 5
}
